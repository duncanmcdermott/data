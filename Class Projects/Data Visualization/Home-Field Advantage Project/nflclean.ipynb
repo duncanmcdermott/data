{
 "cells": [
  {
   "cell_type": "code",
   "execution_count": 30,
   "id": "9e47b2f2-67b2-4624-812d-99de54b98f10",
   "metadata": {},
   "outputs": [],
   "source": [
    "# imports\n",
    "import pandas as pd\n",
    "import time\n",
    "import requests\n",
    "from bs4 import BeautifulSoup\n",
    "import matplotlib.pyplot as plt\n",
    "import seaborn as sns"
   ]
  },
  {
   "cell_type": "markdown",
   "id": "6d6e1b07-930a-482b-ac07-9f9e8df60e3c",
   "metadata": {},
   "source": [
    "# Data Cleaning"
   ]
  },
  {
   "cell_type": "code",
   "execution_count": 14,
   "id": "f6ff8c92-6202-42f6-894d-a20032800f12",
   "metadata": {},
   "outputs": [
    {
     "name": "stdout",
     "output_type": "stream",
     "text": [
      "Fetching data for crd...\n"
     ]
    },
    {
     "name": "stderr",
     "output_type": "stream",
     "text": [
      "/tmp/ipykernel_934/2563013603.py:43: FutureWarning: Passing literal html to 'read_html' is deprecated and will be removed in a future version. To read from a literal string, wrap it in a 'StringIO' object.\n",
      "  tables = pd.read_html(str(schedule_table))\n"
     ]
    },
    {
     "name": "stdout",
     "output_type": "stream",
     "text": [
      "Fetching data for atl...\n"
     ]
    },
    {
     "name": "stderr",
     "output_type": "stream",
     "text": [
      "/tmp/ipykernel_934/2563013603.py:43: FutureWarning: Passing literal html to 'read_html' is deprecated and will be removed in a future version. To read from a literal string, wrap it in a 'StringIO' object.\n",
      "  tables = pd.read_html(str(schedule_table))\n"
     ]
    },
    {
     "name": "stdout",
     "output_type": "stream",
     "text": [
      "Fetching data for rav...\n"
     ]
    },
    {
     "name": "stderr",
     "output_type": "stream",
     "text": [
      "/tmp/ipykernel_934/2563013603.py:43: FutureWarning: Passing literal html to 'read_html' is deprecated and will be removed in a future version. To read from a literal string, wrap it in a 'StringIO' object.\n",
      "  tables = pd.read_html(str(schedule_table))\n"
     ]
    },
    {
     "name": "stdout",
     "output_type": "stream",
     "text": [
      "Fetching data for buf...\n"
     ]
    },
    {
     "name": "stderr",
     "output_type": "stream",
     "text": [
      "/tmp/ipykernel_934/2563013603.py:43: FutureWarning: Passing literal html to 'read_html' is deprecated and will be removed in a future version. To read from a literal string, wrap it in a 'StringIO' object.\n",
      "  tables = pd.read_html(str(schedule_table))\n"
     ]
    },
    {
     "name": "stdout",
     "output_type": "stream",
     "text": [
      "Fetching data for car...\n"
     ]
    },
    {
     "name": "stderr",
     "output_type": "stream",
     "text": [
      "/tmp/ipykernel_934/2563013603.py:43: FutureWarning: Passing literal html to 'read_html' is deprecated and will be removed in a future version. To read from a literal string, wrap it in a 'StringIO' object.\n",
      "  tables = pd.read_html(str(schedule_table))\n"
     ]
    },
    {
     "name": "stdout",
     "output_type": "stream",
     "text": [
      "Fetching data for chi...\n"
     ]
    },
    {
     "name": "stderr",
     "output_type": "stream",
     "text": [
      "/tmp/ipykernel_934/2563013603.py:43: FutureWarning: Passing literal html to 'read_html' is deprecated and will be removed in a future version. To read from a literal string, wrap it in a 'StringIO' object.\n",
      "  tables = pd.read_html(str(schedule_table))\n"
     ]
    },
    {
     "name": "stdout",
     "output_type": "stream",
     "text": [
      "Fetching data for cin...\n"
     ]
    },
    {
     "name": "stderr",
     "output_type": "stream",
     "text": [
      "/tmp/ipykernel_934/2563013603.py:43: FutureWarning: Passing literal html to 'read_html' is deprecated and will be removed in a future version. To read from a literal string, wrap it in a 'StringIO' object.\n",
      "  tables = pd.read_html(str(schedule_table))\n"
     ]
    },
    {
     "name": "stdout",
     "output_type": "stream",
     "text": [
      "Fetching data for cle...\n"
     ]
    },
    {
     "name": "stderr",
     "output_type": "stream",
     "text": [
      "/tmp/ipykernel_934/2563013603.py:43: FutureWarning: Passing literal html to 'read_html' is deprecated and will be removed in a future version. To read from a literal string, wrap it in a 'StringIO' object.\n",
      "  tables = pd.read_html(str(schedule_table))\n"
     ]
    },
    {
     "name": "stdout",
     "output_type": "stream",
     "text": [
      "Fetching data for dal...\n"
     ]
    },
    {
     "name": "stderr",
     "output_type": "stream",
     "text": [
      "/tmp/ipykernel_934/2563013603.py:43: FutureWarning: Passing literal html to 'read_html' is deprecated and will be removed in a future version. To read from a literal string, wrap it in a 'StringIO' object.\n",
      "  tables = pd.read_html(str(schedule_table))\n"
     ]
    },
    {
     "name": "stdout",
     "output_type": "stream",
     "text": [
      "Fetching data for den...\n"
     ]
    },
    {
     "name": "stderr",
     "output_type": "stream",
     "text": [
      "/tmp/ipykernel_934/2563013603.py:43: FutureWarning: Passing literal html to 'read_html' is deprecated and will be removed in a future version. To read from a literal string, wrap it in a 'StringIO' object.\n",
      "  tables = pd.read_html(str(schedule_table))\n"
     ]
    },
    {
     "name": "stdout",
     "output_type": "stream",
     "text": [
      "Fetching data for det...\n"
     ]
    },
    {
     "name": "stderr",
     "output_type": "stream",
     "text": [
      "/tmp/ipykernel_934/2563013603.py:43: FutureWarning: Passing literal html to 'read_html' is deprecated and will be removed in a future version. To read from a literal string, wrap it in a 'StringIO' object.\n",
      "  tables = pd.read_html(str(schedule_table))\n"
     ]
    },
    {
     "name": "stdout",
     "output_type": "stream",
     "text": [
      "Fetching data for gnb...\n"
     ]
    },
    {
     "name": "stderr",
     "output_type": "stream",
     "text": [
      "/tmp/ipykernel_934/2563013603.py:43: FutureWarning: Passing literal html to 'read_html' is deprecated and will be removed in a future version. To read from a literal string, wrap it in a 'StringIO' object.\n",
      "  tables = pd.read_html(str(schedule_table))\n"
     ]
    },
    {
     "name": "stdout",
     "output_type": "stream",
     "text": [
      "Fetching data for htx...\n"
     ]
    },
    {
     "name": "stderr",
     "output_type": "stream",
     "text": [
      "/tmp/ipykernel_934/2563013603.py:43: FutureWarning: Passing literal html to 'read_html' is deprecated and will be removed in a future version. To read from a literal string, wrap it in a 'StringIO' object.\n",
      "  tables = pd.read_html(str(schedule_table))\n"
     ]
    },
    {
     "name": "stdout",
     "output_type": "stream",
     "text": [
      "Fetching data for clt...\n"
     ]
    },
    {
     "name": "stderr",
     "output_type": "stream",
     "text": [
      "/tmp/ipykernel_934/2563013603.py:43: FutureWarning: Passing literal html to 'read_html' is deprecated and will be removed in a future version. To read from a literal string, wrap it in a 'StringIO' object.\n",
      "  tables = pd.read_html(str(schedule_table))\n"
     ]
    },
    {
     "name": "stdout",
     "output_type": "stream",
     "text": [
      "Fetching data for jax...\n"
     ]
    },
    {
     "name": "stderr",
     "output_type": "stream",
     "text": [
      "/tmp/ipykernel_934/2563013603.py:43: FutureWarning: Passing literal html to 'read_html' is deprecated and will be removed in a future version. To read from a literal string, wrap it in a 'StringIO' object.\n",
      "  tables = pd.read_html(str(schedule_table))\n"
     ]
    },
    {
     "name": "stdout",
     "output_type": "stream",
     "text": [
      "Fetching data for kan...\n"
     ]
    },
    {
     "name": "stderr",
     "output_type": "stream",
     "text": [
      "/tmp/ipykernel_934/2563013603.py:43: FutureWarning: Passing literal html to 'read_html' is deprecated and will be removed in a future version. To read from a literal string, wrap it in a 'StringIO' object.\n",
      "  tables = pd.read_html(str(schedule_table))\n"
     ]
    },
    {
     "name": "stdout",
     "output_type": "stream",
     "text": [
      "Fetching data for rai...\n"
     ]
    },
    {
     "name": "stderr",
     "output_type": "stream",
     "text": [
      "/tmp/ipykernel_934/2563013603.py:43: FutureWarning: Passing literal html to 'read_html' is deprecated and will be removed in a future version. To read from a literal string, wrap it in a 'StringIO' object.\n",
      "  tables = pd.read_html(str(schedule_table))\n"
     ]
    },
    {
     "name": "stdout",
     "output_type": "stream",
     "text": [
      "Fetching data for sdg...\n"
     ]
    },
    {
     "name": "stderr",
     "output_type": "stream",
     "text": [
      "/tmp/ipykernel_934/2563013603.py:43: FutureWarning: Passing literal html to 'read_html' is deprecated and will be removed in a future version. To read from a literal string, wrap it in a 'StringIO' object.\n",
      "  tables = pd.read_html(str(schedule_table))\n"
     ]
    },
    {
     "name": "stdout",
     "output_type": "stream",
     "text": [
      "Fetching data for ram...\n"
     ]
    },
    {
     "name": "stderr",
     "output_type": "stream",
     "text": [
      "/tmp/ipykernel_934/2563013603.py:43: FutureWarning: Passing literal html to 'read_html' is deprecated and will be removed in a future version. To read from a literal string, wrap it in a 'StringIO' object.\n",
      "  tables = pd.read_html(str(schedule_table))\n"
     ]
    },
    {
     "name": "stdout",
     "output_type": "stream",
     "text": [
      "Fetching data for mia...\n"
     ]
    },
    {
     "name": "stderr",
     "output_type": "stream",
     "text": [
      "/tmp/ipykernel_934/2563013603.py:43: FutureWarning: Passing literal html to 'read_html' is deprecated and will be removed in a future version. To read from a literal string, wrap it in a 'StringIO' object.\n",
      "  tables = pd.read_html(str(schedule_table))\n"
     ]
    },
    {
     "name": "stdout",
     "output_type": "stream",
     "text": [
      "Fetching data for min...\n"
     ]
    },
    {
     "name": "stderr",
     "output_type": "stream",
     "text": [
      "/tmp/ipykernel_934/2563013603.py:43: FutureWarning: Passing literal html to 'read_html' is deprecated and will be removed in a future version. To read from a literal string, wrap it in a 'StringIO' object.\n",
      "  tables = pd.read_html(str(schedule_table))\n"
     ]
    },
    {
     "name": "stdout",
     "output_type": "stream",
     "text": [
      "Fetching data for nwe...\n"
     ]
    },
    {
     "name": "stderr",
     "output_type": "stream",
     "text": [
      "/tmp/ipykernel_934/2563013603.py:43: FutureWarning: Passing literal html to 'read_html' is deprecated and will be removed in a future version. To read from a literal string, wrap it in a 'StringIO' object.\n",
      "  tables = pd.read_html(str(schedule_table))\n"
     ]
    },
    {
     "name": "stdout",
     "output_type": "stream",
     "text": [
      "Fetching data for nor...\n"
     ]
    },
    {
     "name": "stderr",
     "output_type": "stream",
     "text": [
      "/tmp/ipykernel_934/2563013603.py:43: FutureWarning: Passing literal html to 'read_html' is deprecated and will be removed in a future version. To read from a literal string, wrap it in a 'StringIO' object.\n",
      "  tables = pd.read_html(str(schedule_table))\n"
     ]
    },
    {
     "name": "stdout",
     "output_type": "stream",
     "text": [
      "Fetching data for nyg...\n"
     ]
    },
    {
     "name": "stderr",
     "output_type": "stream",
     "text": [
      "/tmp/ipykernel_934/2563013603.py:43: FutureWarning: Passing literal html to 'read_html' is deprecated and will be removed in a future version. To read from a literal string, wrap it in a 'StringIO' object.\n",
      "  tables = pd.read_html(str(schedule_table))\n"
     ]
    },
    {
     "name": "stdout",
     "output_type": "stream",
     "text": [
      "Fetching data for nyj...\n"
     ]
    },
    {
     "name": "stderr",
     "output_type": "stream",
     "text": [
      "/tmp/ipykernel_934/2563013603.py:43: FutureWarning: Passing literal html to 'read_html' is deprecated and will be removed in a future version. To read from a literal string, wrap it in a 'StringIO' object.\n",
      "  tables = pd.read_html(str(schedule_table))\n"
     ]
    },
    {
     "name": "stdout",
     "output_type": "stream",
     "text": [
      "Fetching data for phi...\n"
     ]
    },
    {
     "name": "stderr",
     "output_type": "stream",
     "text": [
      "/tmp/ipykernel_934/2563013603.py:43: FutureWarning: Passing literal html to 'read_html' is deprecated and will be removed in a future version. To read from a literal string, wrap it in a 'StringIO' object.\n",
      "  tables = pd.read_html(str(schedule_table))\n"
     ]
    },
    {
     "name": "stdout",
     "output_type": "stream",
     "text": [
      "Fetching data for pit...\n"
     ]
    },
    {
     "name": "stderr",
     "output_type": "stream",
     "text": [
      "/tmp/ipykernel_934/2563013603.py:43: FutureWarning: Passing literal html to 'read_html' is deprecated and will be removed in a future version. To read from a literal string, wrap it in a 'StringIO' object.\n",
      "  tables = pd.read_html(str(schedule_table))\n"
     ]
    },
    {
     "name": "stdout",
     "output_type": "stream",
     "text": [
      "Fetching data for sfo...\n"
     ]
    },
    {
     "name": "stderr",
     "output_type": "stream",
     "text": [
      "/tmp/ipykernel_934/2563013603.py:43: FutureWarning: Passing literal html to 'read_html' is deprecated and will be removed in a future version. To read from a literal string, wrap it in a 'StringIO' object.\n",
      "  tables = pd.read_html(str(schedule_table))\n"
     ]
    },
    {
     "name": "stdout",
     "output_type": "stream",
     "text": [
      "Fetching data for sea...\n"
     ]
    },
    {
     "name": "stderr",
     "output_type": "stream",
     "text": [
      "/tmp/ipykernel_934/2563013603.py:43: FutureWarning: Passing literal html to 'read_html' is deprecated and will be removed in a future version. To read from a literal string, wrap it in a 'StringIO' object.\n",
      "  tables = pd.read_html(str(schedule_table))\n"
     ]
    },
    {
     "name": "stdout",
     "output_type": "stream",
     "text": [
      "Fetching data for tam...\n"
     ]
    },
    {
     "name": "stderr",
     "output_type": "stream",
     "text": [
      "/tmp/ipykernel_934/2563013603.py:43: FutureWarning: Passing literal html to 'read_html' is deprecated and will be removed in a future version. To read from a literal string, wrap it in a 'StringIO' object.\n",
      "  tables = pd.read_html(str(schedule_table))\n"
     ]
    },
    {
     "name": "stdout",
     "output_type": "stream",
     "text": [
      "Fetching data for oti...\n"
     ]
    },
    {
     "name": "stderr",
     "output_type": "stream",
     "text": [
      "/tmp/ipykernel_934/2563013603.py:43: FutureWarning: Passing literal html to 'read_html' is deprecated and will be removed in a future version. To read from a literal string, wrap it in a 'StringIO' object.\n",
      "  tables = pd.read_html(str(schedule_table))\n"
     ]
    },
    {
     "name": "stdout",
     "output_type": "stream",
     "text": [
      "Fetching data for was...\n",
      "All team data combined and saved as 'nfl_2022_season_data.csv'.\n"
     ]
    },
    {
     "name": "stderr",
     "output_type": "stream",
     "text": [
      "/tmp/ipykernel_934/2563013603.py:43: FutureWarning: Passing literal html to 'read_html' is deprecated and will be removed in a future version. To read from a literal string, wrap it in a 'StringIO' object.\n",
      "  tables = pd.read_html(str(schedule_table))\n"
     ]
    }
   ],
   "source": [
    "import requests\n",
    "from bs4 import BeautifulSoup\n",
    "import pandas as pd\n",
    "import time\n",
    "\n",
    "# List of NFL team abbreviations\n",
    "teams = [\n",
    "    \"crd\", \"atl\", \"rav\", \"buf\", \"car\", \"chi\", \"cin\", \"cle\", \"dal\", \"den\",\n",
    "    \"det\", \"gnb\", \"htx\", \"clt\", \"jax\", \"kan\", \"rai\", \"sdg\", \"ram\", \"mia\",\n",
    "    \"min\", \"nwe\", \"nor\", \"nyg\", \"nyj\", \"phi\", \"pit\", \"sfo\", \"sea\", \"tam\",\n",
    "    \"oti\", \"was\"\n",
    "]\n",
    "\n",
    "# Base URL\n",
    "base_url = \"https://www.pro-football-reference.com/teams/{TEAM}/2022.htm\"\n",
    "\n",
    "# Initialize an empty list to store data\n",
    "all_teams_data = []\n",
    "\n",
    "# Loop through each team\n",
    "for team in teams:\n",
    "    print(f\"Fetching data for {team}...\")\n",
    "    time.sleep(5)  # Delay to avoid being rate-limited\n",
    "    \n",
    "    try:\n",
    "        # Construct the URL for the team\n",
    "        url = base_url.format(TEAM=team)\n",
    "        \n",
    "        # Fetch the page\n",
    "        response = requests.get(url)\n",
    "        response.raise_for_status()  # Raise an exception for HTTP errors\n",
    "        \n",
    "        # Parse the page HTML\n",
    "        soup = BeautifulSoup(response.text, 'html.parser')\n",
    "        \n",
    "        # Locate the table with id=\"games\"\n",
    "        schedule_table = soup.find('table', {'id': 'games'})\n",
    "        if not schedule_table:\n",
    "            print(f\"No schedule table found for {team}. Skipping...\")\n",
    "            continue\n",
    "        \n",
    "        # Convert the table to a DataFrame\n",
    "        tables = pd.read_html(str(schedule_table))\n",
    "        schedule = tables[0]  # The first (and only) table\n",
    "        \n",
    "        # Add a column for the team\n",
    "        schedule['Team'] = team\n",
    "        \n",
    "        # Append to the list\n",
    "        all_teams_data.append(schedule)\n",
    "    \n",
    "    except Exception as e:\n",
    "        print(f\"Failed to fetch data for {team}: {e}\")\n",
    "\n",
    "# Combine all teams into one DataFrame\n",
    "if all_teams_data:\n",
    "    combined_data = pd.concat(all_teams_data, ignore_index=True)\n",
    "    \n",
    "    # Save to a CSV file\n",
    "    combined_data.to_csv(\"nfl_2022_season_data.csv\", index=False)\n",
    "    print(\"All team data combined and saved as 'nfl_2022_season_data.csv'.\")\n",
    "else:\n",
    "    print(\"No data was fetched.\")"
   ]
  },
  {
   "cell_type": "code",
   "execution_count": 7,
   "id": "0117aeca-2dac-42a6-9aaf-3e196c3135e5",
   "metadata": {},
   "outputs": [
    {
     "name": "stdout",
     "output_type": "stream",
     "text": [
      "Cleaned DataFrame:\n",
      "                  Tm      Total     Home     Away  Week 1  Week 2  Week 3  \\\n",
      "0  Arizona Cardinals  1,141,794  586,830  554,964  63,697  61,707  63,243   \n",
      "1    Atlanta Falcons  1,167,681  626,248  541,433  70,078  71,802  68,773   \n",
      "2   Baltimore Ravens  1,185,526  564,714  620,812  78,827  70,582  65,878   \n",
      "3      Buffalo Bills  1,107,077  547,450  559,627  73,846  70,683  66,206   \n",
      "4  Carolina Panthers  1,201,413  642,167  559,246  72,205  73,843  70,496   \n",
      "\n",
      "   Week 4  Week 5  Week 6  ...  Week 9 Week 10 Week 11 Week 12 Week 13  \\\n",
      "0  69,810  63,919  68,867  ...  63,982  71,752  78,427  63,628     Bye   \n",
      "1  69,435  68,299  69,813  ...  69,299  72,029  69,757  53,864  70,325   \n",
      "2  70,494  70,548  78,019  ...  70,010     Bye  70,677  59,560  70,443   \n",
      "3  70,494  70,764  73,586  ...  83,135  70,844  52,146  66,553  65,878   \n",
      "4  69,810  72,321  71,482  ...  66,160  72,029  70,677  70,644     Bye   \n",
      "\n",
      "  Week 14 Week 15 Week 16 Week 17 Week 18  \n",
      "0  63,251  75,179  63,393  69,269  71,638  \n",
      "1     Bye  70,041  70,467  69,269  69,276  \n",
      "2  66,326  67,431  70,467  71,042  65,849  \n",
      "3  70,603  70,794  59,929     Bye  70,753  \n",
      "4  68,672  73,548  69,173  69,298  70,118  \n",
      "\n",
      "[5 rows x 22 columns]\n"
     ]
    }
   ],
   "source": [
    "# URL for the attendance data\n",
    "url = \"https://www.pro-football-reference.com/years/2022/attendance.htm\"\n",
    "\n",
    "# Fetch the page\n",
    "response = requests.get(url)\n",
    "\n",
    "# Parse the HTML content\n",
    "soup = BeautifulSoup(response.content, 'html.parser')\n",
    "\n",
    "# Find the attendance table\n",
    "table = soup.find('table', {'id': 'attendance'})\n",
    "\n",
    "# Ensure the table exists\n",
    "if not table:\n",
    "    raise ValueError(\"Attendance table not found.\")\n",
    "\n",
    "# Extract headers\n",
    "headers = [th.text.strip() for th in table.find('thead').find_all('th')]\n",
    "\n",
    "# Extract rows\n",
    "rows = []\n",
    "for tr in table.find('tbody').find_all('tr'):\n",
    "    cols = [td.text.strip() for td in tr.find_all('td')]\n",
    "    if cols:  # Skip rows without data\n",
    "        rows.append(cols)\n",
    "\n",
    "# List of team names in the order they appear in the table\n",
    "team_names = [\n",
    "    \"Arizona Cardinals\", \"Atlanta Falcons\", \"Baltimore Ravens\", \"Buffalo Bills\",\n",
    "    \"Carolina Panthers\", \"Chicago Bears\", \"Cincinnati Bengals\", \"Cleveland Browns\",\n",
    "    \"Dallas Cowboys\", \"Denver Broncos\", \"Detroit Lions\", \"Green Bay Packers\",\n",
    "    \"Houston Texans\", \"Indianapolis Colts\", \"Jacksonville Jaguars\", \"Kansas City Chiefs\",\n",
    "    \"Las Vegas Raiders\", \"Los Angeles Chargers\", \"Los Angeles Rams\", \"Miami Dolphins\",\n",
    "    \"Minnesota Vikings\", \"New England Patriots\", \"New Orleans Saints\", \"New York Giants\",\n",
    "    \"New York Jets\", \"Philadelphia Eagles\", \"Pittsburgh Steelers\", \"San Francisco 49ers\",\n",
    "    \"Seattle Seahawks\", \"Tampa Bay Buccaneers\", \"Tennessee Titans\", \"Washington Commanders\"\n",
    "]\n",
    "\n",
    "# Add team names to each row\n",
    "for i, row in enumerate(rows):\n",
    "    if i < len(team_names):  # Ensure we don't exceed the number of teams\n",
    "        row.insert(0, team_names[i])\n",
    "    else:\n",
    "        print(f\"Extra row found at index {i}: {row}\")\n",
    "\n",
    "# Create the DataFrame\n",
    "attendance_df = pd.DataFrame(rows, columns=headers)\n",
    "\n",
    "# Save the cleaned DataFrame\n",
    "attendance_df.to_csv('nfl_attendance_cleaned_2022.csv', index=False)\n",
    "\n",
    "# Display the first few rows\n",
    "print(\"Cleaned DataFrame:\")\n",
    "print(attendance_df.head())"
   ]
  },
  {
   "cell_type": "code",
   "execution_count": 8,
   "id": "06cc176d-4fb8-46c3-a693-685f3f4e98a4",
   "metadata": {},
   "outputs": [
    {
     "data": {
      "text/html": [
       "<div>\n",
       "<style scoped>\n",
       "    .dataframe tbody tr th:only-of-type {\n",
       "        vertical-align: middle;\n",
       "    }\n",
       "\n",
       "    .dataframe tbody tr th {\n",
       "        vertical-align: top;\n",
       "    }\n",
       "\n",
       "    .dataframe thead th {\n",
       "        text-align: right;\n",
       "    }\n",
       "</style>\n",
       "<table border=\"1\" class=\"dataframe\">\n",
       "  <thead>\n",
       "    <tr style=\"text-align: right;\">\n",
       "      <th></th>\n",
       "      <th>Tm</th>\n",
       "      <th>Total</th>\n",
       "      <th>Home</th>\n",
       "      <th>Away</th>\n",
       "      <th>Week</th>\n",
       "      <th>Attendance</th>\n",
       "    </tr>\n",
       "  </thead>\n",
       "  <tbody>\n",
       "    <tr>\n",
       "      <th>0</th>\n",
       "      <td>Arizona Cardinals</td>\n",
       "      <td>1,141,794</td>\n",
       "      <td>586,830</td>\n",
       "      <td>554,964</td>\n",
       "      <td>1</td>\n",
       "      <td>63697</td>\n",
       "    </tr>\n",
       "    <tr>\n",
       "      <th>1</th>\n",
       "      <td>Atlanta Falcons</td>\n",
       "      <td>1,167,681</td>\n",
       "      <td>626,248</td>\n",
       "      <td>541,433</td>\n",
       "      <td>1</td>\n",
       "      <td>70078</td>\n",
       "    </tr>\n",
       "    <tr>\n",
       "      <th>2</th>\n",
       "      <td>Baltimore Ravens</td>\n",
       "      <td>1,185,526</td>\n",
       "      <td>564,714</td>\n",
       "      <td>620,812</td>\n",
       "      <td>1</td>\n",
       "      <td>78827</td>\n",
       "    </tr>\n",
       "    <tr>\n",
       "      <th>3</th>\n",
       "      <td>Buffalo Bills</td>\n",
       "      <td>1,107,077</td>\n",
       "      <td>547,450</td>\n",
       "      <td>559,627</td>\n",
       "      <td>1</td>\n",
       "      <td>73846</td>\n",
       "    </tr>\n",
       "    <tr>\n",
       "      <th>4</th>\n",
       "      <td>Carolina Panthers</td>\n",
       "      <td>1,201,413</td>\n",
       "      <td>642,167</td>\n",
       "      <td>559,246</td>\n",
       "      <td>1</td>\n",
       "      <td>72205</td>\n",
       "    </tr>\n",
       "  </tbody>\n",
       "</table>\n",
       "</div>"
      ],
      "text/plain": [
       "                  Tm      Total     Home     Away  Week  Attendance\n",
       "0  Arizona Cardinals  1,141,794  586,830  554,964     1       63697\n",
       "1    Atlanta Falcons  1,167,681  626,248  541,433     1       70078\n",
       "2   Baltimore Ravens  1,185,526  564,714  620,812     1       78827\n",
       "3      Buffalo Bills  1,107,077  547,450  559,627     1       73846\n",
       "4  Carolina Panthers  1,201,413  642,167  559,246     1       72205"
      ]
     },
     "execution_count": 8,
     "metadata": {},
     "output_type": "execute_result"
    }
   ],
   "source": [
    "# Melt attendance data\n",
    "attendance_long = pd.melt(\n",
    "    attendance_df,\n",
    "    id_vars=['Tm', 'Total', 'Home', 'Away'],  # Columns to keep\n",
    "    var_name='Week',  # New column name for weeks\n",
    "    value_name='Attendance'  # New column name for attendance values\n",
    ")\n",
    "\n",
    "# Clean the \"Week\" column to remove \"Week\" and convert to integers\n",
    "attendance_long['Week'] = attendance_long['Week'].str.replace('Week ', '').astype(int)\n",
    "\n",
    "# Clean the \"Attendance\" column\n",
    "attendance_long['Attendance'] = attendance_long['Attendance'].str.replace(',', '').str.replace('Bye', '0').astype(int)\n",
    "\n",
    "# Preview the reshaped data\n",
    "attendance_long.head()"
   ]
  },
  {
   "cell_type": "code",
   "execution_count": 9,
   "id": "90bdb373-6587-4ebf-b528-fa59cd9c22ad",
   "metadata": {},
   "outputs": [],
   "source": [
    "attendance_df = pd.read_csv('nfl_attendance_cleaned_2022.csv')"
   ]
  },
  {
   "cell_type": "code",
   "execution_count": 10,
   "id": "5b4a76e6-68fc-4287-a9ae-377c6a37a50a",
   "metadata": {},
   "outputs": [
    {
     "data": {
      "text/html": [
       "<div>\n",
       "<style scoped>\n",
       "    .dataframe tbody tr th:only-of-type {\n",
       "        vertical-align: middle;\n",
       "    }\n",
       "\n",
       "    .dataframe tbody tr th {\n",
       "        vertical-align: top;\n",
       "    }\n",
       "\n",
       "    .dataframe thead th {\n",
       "        text-align: right;\n",
       "    }\n",
       "</style>\n",
       "<table border=\"1\" class=\"dataframe\">\n",
       "  <thead>\n",
       "    <tr style=\"text-align: right;\">\n",
       "      <th></th>\n",
       "      <th>Tm</th>\n",
       "      <th>Total</th>\n",
       "      <th>Home</th>\n",
       "      <th>Away</th>\n",
       "      <th>Week 1</th>\n",
       "      <th>Week 2</th>\n",
       "      <th>Week 3</th>\n",
       "      <th>Week 4</th>\n",
       "      <th>Week 5</th>\n",
       "      <th>Week 6</th>\n",
       "      <th>...</th>\n",
       "      <th>Week 9</th>\n",
       "      <th>Week 10</th>\n",
       "      <th>Week 11</th>\n",
       "      <th>Week 12</th>\n",
       "      <th>Week 13</th>\n",
       "      <th>Week 14</th>\n",
       "      <th>Week 15</th>\n",
       "      <th>Week 16</th>\n",
       "      <th>Week 17</th>\n",
       "      <th>Week 18</th>\n",
       "    </tr>\n",
       "  </thead>\n",
       "  <tbody>\n",
       "    <tr>\n",
       "      <th>0</th>\n",
       "      <td>Arizona Cardinals</td>\n",
       "      <td>1,141,794</td>\n",
       "      <td>586,830</td>\n",
       "      <td>554,964</td>\n",
       "      <td>63,697</td>\n",
       "      <td>61,707</td>\n",
       "      <td>63,243</td>\n",
       "      <td>69,810</td>\n",
       "      <td>63,919</td>\n",
       "      <td>68,867</td>\n",
       "      <td>...</td>\n",
       "      <td>63,982</td>\n",
       "      <td>71,752</td>\n",
       "      <td>78,427</td>\n",
       "      <td>63,628</td>\n",
       "      <td>Bye</td>\n",
       "      <td>63,251</td>\n",
       "      <td>75,179</td>\n",
       "      <td>63,393</td>\n",
       "      <td>69,269</td>\n",
       "      <td>71,638</td>\n",
       "    </tr>\n",
       "    <tr>\n",
       "      <th>1</th>\n",
       "      <td>Atlanta Falcons</td>\n",
       "      <td>1,167,681</td>\n",
       "      <td>626,248</td>\n",
       "      <td>541,433</td>\n",
       "      <td>70,078</td>\n",
       "      <td>71,802</td>\n",
       "      <td>68,773</td>\n",
       "      <td>69,435</td>\n",
       "      <td>68,299</td>\n",
       "      <td>69,813</td>\n",
       "      <td>...</td>\n",
       "      <td>69,299</td>\n",
       "      <td>72,029</td>\n",
       "      <td>69,757</td>\n",
       "      <td>53,864</td>\n",
       "      <td>70,325</td>\n",
       "      <td>Bye</td>\n",
       "      <td>70,041</td>\n",
       "      <td>70,467</td>\n",
       "      <td>69,269</td>\n",
       "      <td>69,276</td>\n",
       "    </tr>\n",
       "    <tr>\n",
       "      <th>2</th>\n",
       "      <td>Baltimore Ravens</td>\n",
       "      <td>1,185,526</td>\n",
       "      <td>564,714</td>\n",
       "      <td>620,812</td>\n",
       "      <td>78,827</td>\n",
       "      <td>70,582</td>\n",
       "      <td>65,878</td>\n",
       "      <td>70,494</td>\n",
       "      <td>70,548</td>\n",
       "      <td>78,019</td>\n",
       "      <td>...</td>\n",
       "      <td>70,010</td>\n",
       "      <td>Bye</td>\n",
       "      <td>70,677</td>\n",
       "      <td>59,560</td>\n",
       "      <td>70,443</td>\n",
       "      <td>66,326</td>\n",
       "      <td>67,431</td>\n",
       "      <td>70,467</td>\n",
       "      <td>71,042</td>\n",
       "      <td>65,849</td>\n",
       "    </tr>\n",
       "  </tbody>\n",
       "</table>\n",
       "<p>3 rows × 22 columns</p>\n",
       "</div>"
      ],
      "text/plain": [
       "                  Tm      Total     Home     Away  Week 1  Week 2  Week 3  \\\n",
       "0  Arizona Cardinals  1,141,794  586,830  554,964  63,697  61,707  63,243   \n",
       "1    Atlanta Falcons  1,167,681  626,248  541,433  70,078  71,802  68,773   \n",
       "2   Baltimore Ravens  1,185,526  564,714  620,812  78,827  70,582  65,878   \n",
       "\n",
       "   Week 4  Week 5  Week 6  ...  Week 9 Week 10 Week 11 Week 12 Week 13  \\\n",
       "0  69,810  63,919  68,867  ...  63,982  71,752  78,427  63,628     Bye   \n",
       "1  69,435  68,299  69,813  ...  69,299  72,029  69,757  53,864  70,325   \n",
       "2  70,494  70,548  78,019  ...  70,010     Bye  70,677  59,560  70,443   \n",
       "\n",
       "  Week 14 Week 15 Week 16 Week 17 Week 18  \n",
       "0  63,251  75,179  63,393  69,269  71,638  \n",
       "1     Bye  70,041  70,467  69,269  69,276  \n",
       "2  66,326  67,431  70,467  71,042  65,849  \n",
       "\n",
       "[3 rows x 22 columns]"
      ]
     },
     "execution_count": 10,
     "metadata": {},
     "output_type": "execute_result"
    }
   ],
   "source": [
    "attendance_df.head(3)"
   ]
  },
  {
   "cell_type": "code",
   "execution_count": 11,
   "id": "a145fc86-f886-430d-ae6b-5eeee31757e8",
   "metadata": {},
   "outputs": [],
   "source": [
    "nfl = pd.read_csv('nfl_2022_season_data.csv')"
   ]
  },
  {
   "cell_type": "code",
   "execution_count": 12,
   "id": "676df99b-7d25-426a-b009-b9388c07b797",
   "metadata": {},
   "outputs": [
    {
     "data": {
      "text/html": [
       "<div>\n",
       "<style scoped>\n",
       "    .dataframe tbody tr th:only-of-type {\n",
       "        vertical-align: middle;\n",
       "    }\n",
       "\n",
       "    .dataframe tbody tr th {\n",
       "        vertical-align: top;\n",
       "    }\n",
       "\n",
       "    .dataframe thead th {\n",
       "        text-align: right;\n",
       "    }\n",
       "</style>\n",
       "<table border=\"1\" class=\"dataframe\">\n",
       "  <thead>\n",
       "    <tr style=\"text-align: right;\">\n",
       "      <th></th>\n",
       "      <th>Unnamed: 0_level_0</th>\n",
       "      <th>Unnamed: 1_level_0</th>\n",
       "      <th>Unnamed: 2_level_0</th>\n",
       "      <th>Tot Yds &amp; TO</th>\n",
       "      <th>Tot Yds &amp; TO.1</th>\n",
       "      <th>Tot Yds &amp; TO.2</th>\n",
       "      <th>Unnamed: 6_level_0</th>\n",
       "      <th>Unnamed: 7_level_0</th>\n",
       "      <th>Passing</th>\n",
       "      <th>Passing.1</th>\n",
       "      <th>...</th>\n",
       "      <th>Penalties.2</th>\n",
       "      <th>Unnamed: 23_level_0</th>\n",
       "      <th>Unnamed: 24_level_0</th>\n",
       "      <th>Unnamed: 25_level_0</th>\n",
       "      <th>Average Drive</th>\n",
       "      <th>Average Drive.1</th>\n",
       "      <th>Average Drive.2</th>\n",
       "      <th>Average Drive.3</th>\n",
       "      <th>Average Drive.4</th>\n",
       "      <th>Team</th>\n",
       "    </tr>\n",
       "  </thead>\n",
       "  <tbody>\n",
       "    <tr>\n",
       "      <th>0</th>\n",
       "      <td>Player</td>\n",
       "      <td>PF</td>\n",
       "      <td>Yds</td>\n",
       "      <td>Ply</td>\n",
       "      <td>Y/P</td>\n",
       "      <td>TO</td>\n",
       "      <td>FL</td>\n",
       "      <td>1stD</td>\n",
       "      <td>Cmp</td>\n",
       "      <td>Att</td>\n",
       "      <td>...</td>\n",
       "      <td>1stPy</td>\n",
       "      <td>#Dr</td>\n",
       "      <td>Sc%</td>\n",
       "      <td>TO%</td>\n",
       "      <td>Start</td>\n",
       "      <td>Time</td>\n",
       "      <td>Plays</td>\n",
       "      <td>Yds</td>\n",
       "      <td>Pts</td>\n",
       "      <td>NaN</td>\n",
       "    </tr>\n",
       "    <tr>\n",
       "      <th>1</th>\n",
       "      <td>Team Stats</td>\n",
       "      <td>340</td>\n",
       "      <td>5499</td>\n",
       "      <td>1144.0</td>\n",
       "      <td>4.8</td>\n",
       "      <td>25</td>\n",
       "      <td>8</td>\n",
       "      <td>326</td>\n",
       "      <td>433.0</td>\n",
       "      <td>664</td>\n",
       "      <td>...</td>\n",
       "      <td>22.0</td>\n",
       "      <td>187.0</td>\n",
       "      <td>32.1</td>\n",
       "      <td>12.8</td>\n",
       "      <td>Own 26.8</td>\n",
       "      <td>2:45</td>\n",
       "      <td>6.29</td>\n",
       "      <td>29.2</td>\n",
       "      <td>1.65</td>\n",
       "      <td>crd</td>\n",
       "    </tr>\n",
       "    <tr>\n",
       "      <th>2</th>\n",
       "      <td>Opp. Stats</td>\n",
       "      <td>449</td>\n",
       "      <td>5931</td>\n",
       "      <td>1075.0</td>\n",
       "      <td>5.5</td>\n",
       "      <td>20</td>\n",
       "      <td>9</td>\n",
       "      <td>363</td>\n",
       "      <td>414.0</td>\n",
       "      <td>593</td>\n",
       "      <td>...</td>\n",
       "      <td>21.0</td>\n",
       "      <td>190.0</td>\n",
       "      <td>41.6</td>\n",
       "      <td>10.5</td>\n",
       "      <td>Own 31.3</td>\n",
       "      <td>2:44</td>\n",
       "      <td>5.8</td>\n",
       "      <td>31.2</td>\n",
       "      <td>2.3</td>\n",
       "      <td>crd</td>\n",
       "    </tr>\n",
       "  </tbody>\n",
       "</table>\n",
       "<p>3 rows × 32 columns</p>\n",
       "</div>"
      ],
      "text/plain": [
       "  Unnamed: 0_level_0 Unnamed: 1_level_0 Unnamed: 2_level_0 Tot Yds & TO  \\\n",
       "0             Player                 PF                Yds          Ply   \n",
       "1         Team Stats                340               5499       1144.0   \n",
       "2         Opp. Stats                449               5931       1075.0   \n",
       "\n",
       "  Tot Yds & TO.1 Tot Yds & TO.2 Unnamed: 6_level_0 Unnamed: 7_level_0 Passing  \\\n",
       "0            Y/P             TO                 FL               1stD     Cmp   \n",
       "1            4.8             25                  8                326   433.0   \n",
       "2            5.5             20                  9                363   414.0   \n",
       "\n",
       "  Passing.1  ... Penalties.2 Unnamed: 23_level_0 Unnamed: 24_level_0  \\\n",
       "0       Att  ...       1stPy                 #Dr                 Sc%   \n",
       "1       664  ...        22.0               187.0                32.1   \n",
       "2       593  ...        21.0               190.0                41.6   \n",
       "\n",
       "  Unnamed: 25_level_0 Average Drive Average Drive.1 Average Drive.2  \\\n",
       "0                 TO%         Start            Time           Plays   \n",
       "1                12.8      Own 26.8            2:45            6.29   \n",
       "2                10.5      Own 31.3            2:44             5.8   \n",
       "\n",
       "  Average Drive.3 Average Drive.4 Team  \n",
       "0             Yds             Pts  NaN  \n",
       "1            29.2            1.65  crd  \n",
       "2            31.2             2.3  crd  \n",
       "\n",
       "[3 rows x 32 columns]"
      ]
     },
     "execution_count": 12,
     "metadata": {},
     "output_type": "execute_result"
    }
   ],
   "source": [
    "nfl.head(3)"
   ]
  },
  {
   "cell_type": "code",
   "execution_count": 13,
   "id": "3420bd3b-9002-4a33-af16-79ffe27ede9b",
   "metadata": {},
   "outputs": [
    {
     "data": {
      "text/html": [
       "<div>\n",
       "<style scoped>\n",
       "    .dataframe tbody tr th:only-of-type {\n",
       "        vertical-align: middle;\n",
       "    }\n",
       "\n",
       "    .dataframe tbody tr th {\n",
       "        vertical-align: top;\n",
       "    }\n",
       "\n",
       "    .dataframe thead th {\n",
       "        text-align: right;\n",
       "    }\n",
       "</style>\n",
       "<table border=\"1\" class=\"dataframe\">\n",
       "  <thead>\n",
       "    <tr style=\"text-align: right;\">\n",
       "      <th></th>\n",
       "      <th>Player</th>\n",
       "      <th>PF</th>\n",
       "      <th>Yds</th>\n",
       "      <th>Ply</th>\n",
       "      <th>Y/P</th>\n",
       "      <th>TO</th>\n",
       "      <th>FL</th>\n",
       "      <th>1stD</th>\n",
       "      <th>Cmp</th>\n",
       "      <th>Att</th>\n",
       "      <th>...</th>\n",
       "      <th>1stPy</th>\n",
       "      <th>#Dr</th>\n",
       "      <th>Sc%</th>\n",
       "      <th>TO%</th>\n",
       "      <th>Start</th>\n",
       "      <th>Time</th>\n",
       "      <th>Plays</th>\n",
       "      <th>Yds</th>\n",
       "      <th>Pts</th>\n",
       "      <th>NaN</th>\n",
       "    </tr>\n",
       "  </thead>\n",
       "  <tbody>\n",
       "    <tr>\n",
       "      <th>0</th>\n",
       "      <td>Player</td>\n",
       "      <td>PF</td>\n",
       "      <td>Yds</td>\n",
       "      <td>Ply</td>\n",
       "      <td>Y/P</td>\n",
       "      <td>TO</td>\n",
       "      <td>FL</td>\n",
       "      <td>1stD</td>\n",
       "      <td>Cmp</td>\n",
       "      <td>Att</td>\n",
       "      <td>...</td>\n",
       "      <td>1stPy</td>\n",
       "      <td>#Dr</td>\n",
       "      <td>Sc%</td>\n",
       "      <td>TO%</td>\n",
       "      <td>Start</td>\n",
       "      <td>Time</td>\n",
       "      <td>Plays</td>\n",
       "      <td>Yds</td>\n",
       "      <td>Pts</td>\n",
       "      <td>NaN</td>\n",
       "    </tr>\n",
       "    <tr>\n",
       "      <th>1</th>\n",
       "      <td>Team Stats</td>\n",
       "      <td>340</td>\n",
       "      <td>5499</td>\n",
       "      <td>1144.0</td>\n",
       "      <td>4.8</td>\n",
       "      <td>25</td>\n",
       "      <td>8</td>\n",
       "      <td>326</td>\n",
       "      <td>433.0</td>\n",
       "      <td>664</td>\n",
       "      <td>...</td>\n",
       "      <td>22.0</td>\n",
       "      <td>187.0</td>\n",
       "      <td>32.1</td>\n",
       "      <td>12.8</td>\n",
       "      <td>Own 26.8</td>\n",
       "      <td>2:45</td>\n",
       "      <td>6.29</td>\n",
       "      <td>29.2</td>\n",
       "      <td>1.65</td>\n",
       "      <td>crd</td>\n",
       "    </tr>\n",
       "    <tr>\n",
       "      <th>2</th>\n",
       "      <td>Opp. Stats</td>\n",
       "      <td>449</td>\n",
       "      <td>5931</td>\n",
       "      <td>1075.0</td>\n",
       "      <td>5.5</td>\n",
       "      <td>20</td>\n",
       "      <td>9</td>\n",
       "      <td>363</td>\n",
       "      <td>414.0</td>\n",
       "      <td>593</td>\n",
       "      <td>...</td>\n",
       "      <td>21.0</td>\n",
       "      <td>190.0</td>\n",
       "      <td>41.6</td>\n",
       "      <td>10.5</td>\n",
       "      <td>Own 31.3</td>\n",
       "      <td>2:44</td>\n",
       "      <td>5.8</td>\n",
       "      <td>31.2</td>\n",
       "      <td>2.3</td>\n",
       "      <td>crd</td>\n",
       "    </tr>\n",
       "    <tr>\n",
       "      <th>3</th>\n",
       "      <td>Lg Rank Offense</td>\n",
       "      <td>21</td>\n",
       "      <td>22</td>\n",
       "      <td>NaN</td>\n",
       "      <td>NaN</td>\n",
       "      <td>27</td>\n",
       "      <td>7</td>\n",
       "      <td>22</td>\n",
       "      <td>NaN</td>\n",
       "      <td>4</td>\n",
       "      <td>...</td>\n",
       "      <td>NaN</td>\n",
       "      <td>NaN</td>\n",
       "      <td>24.0</td>\n",
       "      <td>6.0</td>\n",
       "      <td>26</td>\n",
       "      <td>20</td>\n",
       "      <td>7.0</td>\n",
       "      <td>22.0</td>\n",
       "      <td>24.0</td>\n",
       "      <td>crd</td>\n",
       "    </tr>\n",
       "    <tr>\n",
       "      <th>4</th>\n",
       "      <td>Lg Rank Defense</td>\n",
       "      <td>31</td>\n",
       "      <td>21</td>\n",
       "      <td>NaN</td>\n",
       "      <td>NaN</td>\n",
       "      <td>20</td>\n",
       "      <td>17</td>\n",
       "      <td>29</td>\n",
       "      <td>NaN</td>\n",
       "      <td>21</td>\n",
       "      <td>...</td>\n",
       "      <td>NaN</td>\n",
       "      <td>NaN</td>\n",
       "      <td>3.0</td>\n",
       "      <td>20.0</td>\n",
       "      <td>32</td>\n",
       "      <td>10</td>\n",
       "      <td>9.0</td>\n",
       "      <td>17.0</td>\n",
       "      <td>30.0</td>\n",
       "      <td>crd</td>\n",
       "    </tr>\n",
       "  </tbody>\n",
       "</table>\n",
       "<p>5 rows × 32 columns</p>\n",
       "</div>"
      ],
      "text/plain": [
       "0           Player   PF   Yds     Ply  Y/P  TO  FL  1stD    Cmp  Att  ...  \\\n",
       "0           Player   PF   Yds     Ply  Y/P  TO  FL  1stD    Cmp  Att  ...   \n",
       "1       Team Stats  340  5499  1144.0  4.8  25   8   326  433.0  664  ...   \n",
       "2       Opp. Stats  449  5931  1075.0  5.5  20   9   363  414.0  593  ...   \n",
       "3  Lg Rank Offense   21    22     NaN  NaN  27   7    22    NaN    4  ...   \n",
       "4  Lg Rank Defense   31    21     NaN  NaN  20  17    29    NaN   21  ...   \n",
       "\n",
       "0  1stPy    #Dr   Sc%   TO%     Start  Time  Plays   Yds   Pts  NaN  \n",
       "0  1stPy    #Dr   Sc%   TO%     Start  Time  Plays   Yds   Pts  NaN  \n",
       "1   22.0  187.0  32.1  12.8  Own 26.8  2:45   6.29  29.2  1.65  crd  \n",
       "2   21.0  190.0  41.6  10.5  Own 31.3  2:44    5.8  31.2   2.3  crd  \n",
       "3    NaN    NaN  24.0   6.0        26    20    7.0  22.0  24.0  crd  \n",
       "4    NaN    NaN   3.0  20.0        32    10    9.0  17.0  30.0  crd  \n",
       "\n",
       "[5 rows x 32 columns]"
      ]
     },
     "execution_count": 13,
     "metadata": {},
     "output_type": "execute_result"
    }
   ],
   "source": [
    "# Set the second row as column headers\n",
    "nfl.columns = nfl.iloc[0]  # Set the first row as column headers\n",
    "nfl = nfl.reset_index(drop=True)# Reset the index\n",
    "\n",
    "# Preview the cleaned DataFrame\n",
    "nfl.head()"
   ]
  },
  {
   "cell_type": "code",
   "execution_count": 14,
   "id": "e6e86151-ba89-452e-85d7-f932ec3b2f2a",
   "metadata": {},
   "outputs": [
    {
     "data": {
      "text/html": [
       "<div>\n",
       "<style scoped>\n",
       "    .dataframe tbody tr th:only-of-type {\n",
       "        vertical-align: middle;\n",
       "    }\n",
       "\n",
       "    .dataframe tbody tr th {\n",
       "        vertical-align: top;\n",
       "    }\n",
       "\n",
       "    .dataframe thead th {\n",
       "        text-align: right;\n",
       "    }\n",
       "</style>\n",
       "<table border=\"1\" class=\"dataframe\">\n",
       "  <thead>\n",
       "    <tr style=\"text-align: right;\">\n",
       "      <th></th>\n",
       "      <th>Player</th>\n",
       "      <th>PF</th>\n",
       "      <th>Yds</th>\n",
       "      <th>Ply</th>\n",
       "      <th>Y/P</th>\n",
       "      <th>TO</th>\n",
       "      <th>FL</th>\n",
       "      <th>1stD</th>\n",
       "      <th>Cmp</th>\n",
       "      <th>Att</th>\n",
       "      <th>...</th>\n",
       "      <th>1stPy</th>\n",
       "      <th>#Dr</th>\n",
       "      <th>Sc%</th>\n",
       "      <th>TO%</th>\n",
       "      <th>Start</th>\n",
       "      <th>Time</th>\n",
       "      <th>Plays</th>\n",
       "      <th>Yds</th>\n",
       "      <th>Pts</th>\n",
       "      <th>NaN</th>\n",
       "    </tr>\n",
       "  </thead>\n",
       "  <tbody>\n",
       "    <tr>\n",
       "      <th>1</th>\n",
       "      <td>Team Stats</td>\n",
       "      <td>340</td>\n",
       "      <td>5499</td>\n",
       "      <td>1144.0</td>\n",
       "      <td>4.8</td>\n",
       "      <td>25</td>\n",
       "      <td>8</td>\n",
       "      <td>326</td>\n",
       "      <td>433.0</td>\n",
       "      <td>664</td>\n",
       "      <td>...</td>\n",
       "      <td>22.0</td>\n",
       "      <td>187.0</td>\n",
       "      <td>32.1</td>\n",
       "      <td>12.8</td>\n",
       "      <td>Own 26.8</td>\n",
       "      <td>2:45</td>\n",
       "      <td>6.29</td>\n",
       "      <td>29.2</td>\n",
       "      <td>1.65</td>\n",
       "      <td>crd</td>\n",
       "    </tr>\n",
       "    <tr>\n",
       "      <th>2</th>\n",
       "      <td>Opp. Stats</td>\n",
       "      <td>449</td>\n",
       "      <td>5931</td>\n",
       "      <td>1075.0</td>\n",
       "      <td>5.5</td>\n",
       "      <td>20</td>\n",
       "      <td>9</td>\n",
       "      <td>363</td>\n",
       "      <td>414.0</td>\n",
       "      <td>593</td>\n",
       "      <td>...</td>\n",
       "      <td>21.0</td>\n",
       "      <td>190.0</td>\n",
       "      <td>41.6</td>\n",
       "      <td>10.5</td>\n",
       "      <td>Own 31.3</td>\n",
       "      <td>2:44</td>\n",
       "      <td>5.8</td>\n",
       "      <td>31.2</td>\n",
       "      <td>2.3</td>\n",
       "      <td>crd</td>\n",
       "    </tr>\n",
       "    <tr>\n",
       "      <th>3</th>\n",
       "      <td>Lg Rank Offense</td>\n",
       "      <td>21</td>\n",
       "      <td>22</td>\n",
       "      <td>NaN</td>\n",
       "      <td>NaN</td>\n",
       "      <td>27</td>\n",
       "      <td>7</td>\n",
       "      <td>22</td>\n",
       "      <td>NaN</td>\n",
       "      <td>4</td>\n",
       "      <td>...</td>\n",
       "      <td>NaN</td>\n",
       "      <td>NaN</td>\n",
       "      <td>24.0</td>\n",
       "      <td>6.0</td>\n",
       "      <td>26</td>\n",
       "      <td>20</td>\n",
       "      <td>7.0</td>\n",
       "      <td>22.0</td>\n",
       "      <td>24.0</td>\n",
       "      <td>crd</td>\n",
       "    </tr>\n",
       "  </tbody>\n",
       "</table>\n",
       "<p>3 rows × 32 columns</p>\n",
       "</div>"
      ],
      "text/plain": [
       "0           Player   PF   Yds     Ply  Y/P  TO FL 1stD    Cmp  Att  ... 1stPy  \\\n",
       "1       Team Stats  340  5499  1144.0  4.8  25  8  326  433.0  664  ...  22.0   \n",
       "2       Opp. Stats  449  5931  1075.0  5.5  20  9  363  414.0  593  ...  21.0   \n",
       "3  Lg Rank Offense   21    22     NaN  NaN  27  7   22    NaN    4  ...   NaN   \n",
       "\n",
       "0    #Dr   Sc%   TO%     Start  Time Plays   Yds   Pts  NaN  \n",
       "1  187.0  32.1  12.8  Own 26.8  2:45  6.29  29.2  1.65  crd  \n",
       "2  190.0  41.6  10.5  Own 31.3  2:44   5.8  31.2   2.3  crd  \n",
       "3    NaN  24.0   6.0        26    20   7.0  22.0  24.0  crd  \n",
       "\n",
       "[3 rows x 32 columns]"
      ]
     },
     "execution_count": 14,
     "metadata": {},
     "output_type": "execute_result"
    }
   ],
   "source": [
    "nfl = nfl[1:]\n",
    "nfl.head(3)"
   ]
  },
  {
   "cell_type": "code",
   "execution_count": 15,
   "id": "ea01ba11-8321-4423-adff-88b604e05322",
   "metadata": {},
   "outputs": [
    {
     "data": {
      "text/html": [
       "<div>\n",
       "<style scoped>\n",
       "    .dataframe tbody tr th:only-of-type {\n",
       "        vertical-align: middle;\n",
       "    }\n",
       "\n",
       "    .dataframe tbody tr th {\n",
       "        vertical-align: top;\n",
       "    }\n",
       "\n",
       "    .dataframe thead th {\n",
       "        text-align: right;\n",
       "    }\n",
       "</style>\n",
       "<table border=\"1\" class=\"dataframe\">\n",
       "  <thead>\n",
       "    <tr style=\"text-align: right;\">\n",
       "      <th></th>\n",
       "      <th>Player</th>\n",
       "      <th>PF</th>\n",
       "      <th>Yds</th>\n",
       "      <th>Ply</th>\n",
       "      <th>Y/P</th>\n",
       "      <th>Win/Loss</th>\n",
       "      <th>FL</th>\n",
       "      <th>1stD</th>\n",
       "      <th>Home/Road</th>\n",
       "      <th>Att</th>\n",
       "      <th>...</th>\n",
       "      <th>1stPy</th>\n",
       "      <th>#Dr</th>\n",
       "      <th>Sc%</th>\n",
       "      <th>TO%</th>\n",
       "      <th>Start</th>\n",
       "      <th>Time</th>\n",
       "      <th>Plays</th>\n",
       "      <th>Yds</th>\n",
       "      <th>Pts</th>\n",
       "      <th>Team</th>\n",
       "    </tr>\n",
       "  </thead>\n",
       "  <tbody>\n",
       "    <tr>\n",
       "      <th>1</th>\n",
       "      <td>Team Stats</td>\n",
       "      <td>340</td>\n",
       "      <td>5499</td>\n",
       "      <td>1144.0</td>\n",
       "      <td>4.8</td>\n",
       "      <td>25</td>\n",
       "      <td>8</td>\n",
       "      <td>326</td>\n",
       "      <td>433.0</td>\n",
       "      <td>664</td>\n",
       "      <td>...</td>\n",
       "      <td>22.0</td>\n",
       "      <td>187.0</td>\n",
       "      <td>32.1</td>\n",
       "      <td>12.8</td>\n",
       "      <td>Own 26.8</td>\n",
       "      <td>2:45</td>\n",
       "      <td>6.29</td>\n",
       "      <td>29.2</td>\n",
       "      <td>1.65</td>\n",
       "      <td>crd</td>\n",
       "    </tr>\n",
       "    <tr>\n",
       "      <th>2</th>\n",
       "      <td>Opp. Stats</td>\n",
       "      <td>449</td>\n",
       "      <td>5931</td>\n",
       "      <td>1075.0</td>\n",
       "      <td>5.5</td>\n",
       "      <td>20</td>\n",
       "      <td>9</td>\n",
       "      <td>363</td>\n",
       "      <td>414.0</td>\n",
       "      <td>593</td>\n",
       "      <td>...</td>\n",
       "      <td>21.0</td>\n",
       "      <td>190.0</td>\n",
       "      <td>41.6</td>\n",
       "      <td>10.5</td>\n",
       "      <td>Own 31.3</td>\n",
       "      <td>2:44</td>\n",
       "      <td>5.8</td>\n",
       "      <td>31.2</td>\n",
       "      <td>2.3</td>\n",
       "      <td>crd</td>\n",
       "    </tr>\n",
       "    <tr>\n",
       "      <th>3</th>\n",
       "      <td>Lg Rank Offense</td>\n",
       "      <td>21</td>\n",
       "      <td>22</td>\n",
       "      <td>NaN</td>\n",
       "      <td>NaN</td>\n",
       "      <td>27</td>\n",
       "      <td>7</td>\n",
       "      <td>22</td>\n",
       "      <td>NaN</td>\n",
       "      <td>4</td>\n",
       "      <td>...</td>\n",
       "      <td>NaN</td>\n",
       "      <td>NaN</td>\n",
       "      <td>24.0</td>\n",
       "      <td>6.0</td>\n",
       "      <td>26</td>\n",
       "      <td>20</td>\n",
       "      <td>7.0</td>\n",
       "      <td>22.0</td>\n",
       "      <td>24.0</td>\n",
       "      <td>crd</td>\n",
       "    </tr>\n",
       "    <tr>\n",
       "      <th>4</th>\n",
       "      <td>Lg Rank Defense</td>\n",
       "      <td>31</td>\n",
       "      <td>21</td>\n",
       "      <td>NaN</td>\n",
       "      <td>NaN</td>\n",
       "      <td>20</td>\n",
       "      <td>17</td>\n",
       "      <td>29</td>\n",
       "      <td>NaN</td>\n",
       "      <td>21</td>\n",
       "      <td>...</td>\n",
       "      <td>NaN</td>\n",
       "      <td>NaN</td>\n",
       "      <td>3.0</td>\n",
       "      <td>20.0</td>\n",
       "      <td>32</td>\n",
       "      <td>10</td>\n",
       "      <td>9.0</td>\n",
       "      <td>17.0</td>\n",
       "      <td>30.0</td>\n",
       "      <td>crd</td>\n",
       "    </tr>\n",
       "    <tr>\n",
       "      <th>5</th>\n",
       "      <td>Team Stats</td>\n",
       "      <td>365</td>\n",
       "      <td>5417</td>\n",
       "      <td>1011.0</td>\n",
       "      <td>5.4</td>\n",
       "      <td>21</td>\n",
       "      <td>12</td>\n",
       "      <td>330</td>\n",
       "      <td>257.0</td>\n",
       "      <td>415</td>\n",
       "      <td>...</td>\n",
       "      <td>30.0</td>\n",
       "      <td>167.0</td>\n",
       "      <td>39.5</td>\n",
       "      <td>11.4</td>\n",
       "      <td>Own 27.7</td>\n",
       "      <td>3:02</td>\n",
       "      <td>6.24</td>\n",
       "      <td>32.3</td>\n",
       "      <td>2.0</td>\n",
       "      <td>atl</td>\n",
       "    </tr>\n",
       "  </tbody>\n",
       "</table>\n",
       "<p>5 rows × 32 columns</p>\n",
       "</div>"
      ],
      "text/plain": [
       "0           Player   PF   Yds     Ply  Y/P Win/Loss  FL 1stD Home/Road  Att  \\\n",
       "1       Team Stats  340  5499  1144.0  4.8       25   8  326     433.0  664   \n",
       "2       Opp. Stats  449  5931  1075.0  5.5       20   9  363     414.0  593   \n",
       "3  Lg Rank Offense   21    22     NaN  NaN       27   7   22       NaN    4   \n",
       "4  Lg Rank Defense   31    21     NaN  NaN       20  17   29       NaN   21   \n",
       "5       Team Stats  365  5417  1011.0  5.4       21  12  330     257.0  415   \n",
       "\n",
       "0  ... 1stPy    #Dr   Sc%   TO%     Start  Time Plays   Yds   Pts Team  \n",
       "1  ...  22.0  187.0  32.1  12.8  Own 26.8  2:45  6.29  29.2  1.65  crd  \n",
       "2  ...  21.0  190.0  41.6  10.5  Own 31.3  2:44   5.8  31.2   2.3  crd  \n",
       "3  ...   NaN    NaN  24.0   6.0        26    20   7.0  22.0  24.0  crd  \n",
       "4  ...   NaN    NaN   3.0  20.0        32    10   9.0  17.0  30.0  crd  \n",
       "5  ...  30.0  167.0  39.5  11.4  Own 27.7  3:02  6.24  32.3   2.0  atl  \n",
       "\n",
       "[5 rows x 32 columns]"
      ]
     },
     "execution_count": 15,
     "metadata": {},
     "output_type": "execute_result"
    }
   ],
   "source": [
    "# Rename the NaN column to 'Tm'\n",
    "nfl.rename(columns={nfl.columns[-1]: 'Team'}, inplace=True)\n",
    "nfl.rename(columns={nfl.columns[5]: 'Win/Loss'}, inplace=True)\n",
    "nfl.rename(columns={nfl.columns[8]: 'Home/Road'}, inplace = True)\n",
    "\n",
    "\n",
    "# Preview the updated DataFrame\n",
    "nfl.head()"
   ]
  },
  {
   "cell_type": "code",
   "execution_count": 16,
   "id": "106fe102-e49b-4bed-873d-3a3fd72c2de9",
   "metadata": {},
   "outputs": [
    {
     "data": {
      "text/html": [
       "<div>\n",
       "<style scoped>\n",
       "    .dataframe tbody tr th:only-of-type {\n",
       "        vertical-align: middle;\n",
       "    }\n",
       "\n",
       "    .dataframe tbody tr th {\n",
       "        vertical-align: top;\n",
       "    }\n",
       "\n",
       "    .dataframe thead th {\n",
       "        text-align: right;\n",
       "    }\n",
       "</style>\n",
       "<table border=\"1\" class=\"dataframe\">\n",
       "  <thead>\n",
       "    <tr style=\"text-align: right;\">\n",
       "      <th></th>\n",
       "      <th>Player</th>\n",
       "      <th>PF</th>\n",
       "      <th>Yds</th>\n",
       "      <th>Ply</th>\n",
       "      <th>Y/P</th>\n",
       "      <th>Win/Loss</th>\n",
       "      <th>FL</th>\n",
       "      <th>1stD</th>\n",
       "      <th>Home/Road</th>\n",
       "      <th>Att</th>\n",
       "      <th>...</th>\n",
       "      <th>1stPy</th>\n",
       "      <th>#Dr</th>\n",
       "      <th>Sc%</th>\n",
       "      <th>TO%</th>\n",
       "      <th>Start</th>\n",
       "      <th>Time</th>\n",
       "      <th>Plays</th>\n",
       "      <th>Yds</th>\n",
       "      <th>Pts</th>\n",
       "      <th>Team</th>\n",
       "    </tr>\n",
       "  </thead>\n",
       "  <tbody>\n",
       "    <tr>\n",
       "      <th>1</th>\n",
       "      <td>Team Stats</td>\n",
       "      <td>340</td>\n",
       "      <td>5499</td>\n",
       "      <td>1144.0</td>\n",
       "      <td>4.8</td>\n",
       "      <td>25</td>\n",
       "      <td>8</td>\n",
       "      <td>326</td>\n",
       "      <td>Road</td>\n",
       "      <td>664</td>\n",
       "      <td>...</td>\n",
       "      <td>22.0</td>\n",
       "      <td>187.0</td>\n",
       "      <td>32.1</td>\n",
       "      <td>12.8</td>\n",
       "      <td>Own 26.8</td>\n",
       "      <td>2:45</td>\n",
       "      <td>6.29</td>\n",
       "      <td>29.2</td>\n",
       "      <td>1.65</td>\n",
       "      <td>crd</td>\n",
       "    </tr>\n",
       "    <tr>\n",
       "      <th>2</th>\n",
       "      <td>Opp. Stats</td>\n",
       "      <td>449</td>\n",
       "      <td>5931</td>\n",
       "      <td>1075.0</td>\n",
       "      <td>5.5</td>\n",
       "      <td>20</td>\n",
       "      <td>9</td>\n",
       "      <td>363</td>\n",
       "      <td>Road</td>\n",
       "      <td>593</td>\n",
       "      <td>...</td>\n",
       "      <td>21.0</td>\n",
       "      <td>190.0</td>\n",
       "      <td>41.6</td>\n",
       "      <td>10.5</td>\n",
       "      <td>Own 31.3</td>\n",
       "      <td>2:44</td>\n",
       "      <td>5.8</td>\n",
       "      <td>31.2</td>\n",
       "      <td>2.3</td>\n",
       "      <td>crd</td>\n",
       "    </tr>\n",
       "    <tr>\n",
       "      <th>3</th>\n",
       "      <td>Lg Rank Offense</td>\n",
       "      <td>21</td>\n",
       "      <td>22</td>\n",
       "      <td>NaN</td>\n",
       "      <td>NaN</td>\n",
       "      <td>27</td>\n",
       "      <td>7</td>\n",
       "      <td>22</td>\n",
       "      <td>Home</td>\n",
       "      <td>4</td>\n",
       "      <td>...</td>\n",
       "      <td>NaN</td>\n",
       "      <td>NaN</td>\n",
       "      <td>24.0</td>\n",
       "      <td>6.0</td>\n",
       "      <td>26</td>\n",
       "      <td>20</td>\n",
       "      <td>7.0</td>\n",
       "      <td>22.0</td>\n",
       "      <td>24.0</td>\n",
       "      <td>crd</td>\n",
       "    </tr>\n",
       "  </tbody>\n",
       "</table>\n",
       "<p>3 rows × 32 columns</p>\n",
       "</div>"
      ],
      "text/plain": [
       "0           Player   PF   Yds     Ply  Y/P Win/Loss FL 1stD Home/Road  Att  \\\n",
       "1       Team Stats  340  5499  1144.0  4.8       25  8  326      Road  664   \n",
       "2       Opp. Stats  449  5931  1075.0  5.5       20  9  363      Road  593   \n",
       "3  Lg Rank Offense   21    22     NaN  NaN       27  7   22      Home    4   \n",
       "\n",
       "0  ... 1stPy    #Dr   Sc%   TO%     Start  Time Plays   Yds   Pts Team  \n",
       "1  ...  22.0  187.0  32.1  12.8  Own 26.8  2:45  6.29  29.2  1.65  crd  \n",
       "2  ...  21.0  190.0  41.6  10.5  Own 31.3  2:44   5.8  31.2   2.3  crd  \n",
       "3  ...   NaN    NaN  24.0   6.0        26    20   7.0  22.0  24.0  crd  \n",
       "\n",
       "[3 rows x 32 columns]"
      ]
     },
     "execution_count": 16,
     "metadata": {},
     "output_type": "execute_result"
    }
   ],
   "source": [
    "nfl['Home/Road'] = nfl['Home/Road'].apply(lambda x: 'Home' if pd.isna(x) else 'Road')\n",
    "nfl.head(3)"
   ]
  },
  {
   "cell_type": "code",
   "execution_count": 17,
   "id": "b64c4226-d93d-494a-aedd-99f83a2f5e33",
   "metadata": {},
   "outputs": [],
   "source": [
    "# map more well know team names to abbreviations\n",
    "team_mapping = {\n",
    "    \"Arizona Cardinals\": \"crd\",\n",
    "    \"Atlanta Falcons\": \"atl\",\n",
    "    \"Baltimore Ravens\": \"rav\",\n",
    "    \"Buffalo Bills\": \"buf\",\n",
    "    \"Carolina Panthers\": \"car\",\n",
    "    \"Chicago Bears\": \"chi\",\n",
    "    \"Cincinnati Bengals\": \"cin\",\n",
    "    \"Cleveland Browns\": \"cle\",\n",
    "    \"Dallas Cowboys\": \"dal\",\n",
    "    \"Denver Broncos\": \"den\",\n",
    "    \"Detroit Lions\": \"det\",\n",
    "    \"Green Bay Packers\": \"gnb\",\n",
    "    \"Houston Texans\": \"htx\",\n",
    "    \"Indianapolis Colts\": \"clt\",\n",
    "    \"Jacksonville Jaguars\": \"jax\",\n",
    "    \"Kansas City Chiefs\": \"kan\",\n",
    "    \"Las Vegas Raiders\": \"rai\",\n",
    "    \"Los Angeles Chargers\": \"sdg\",\n",
    "    \"Los Angeles Rams\": \"ram\",\n",
    "    \"Miami Dolphins\": \"mia\",\n",
    "    \"Minnesota Vikings\": \"min\",\n",
    "    \"New England Patriots\": \"nwe\",\n",
    "    \"New Orleans Saints\": \"nor\",\n",
    "    \"New York Giants\": \"nyg\",\n",
    "    \"New York Jets\": \"nyj\",\n",
    "    \"Philadelphia Eagles\": \"phi\",\n",
    "    \"Pittsburgh Steelers\": \"pit\",\n",
    "    \"San Francisco 49ers\": \"sfo\",\n",
    "    \"Seattle Seahawks\": \"sea\",\n",
    "    \"Tampa Bay Buccaneers\": \"tam\",\n",
    "    \"Tennessee Titans\": \"oti\",\n",
    "    \"Washington Commanders\": \"was\"\n",
    "}\n",
    "team_mapping_reversed = {v: k for k, v in team_mapping.items()}\n",
    "\n",
    "\n",
    "# Apply the mapping to the 'Team' column\n",
    "nfl['Team'] = nfl['Team'].map(team_mapping_reversed)"
   ]
  },
  {
   "cell_type": "code",
   "execution_count": 19,
   "id": "25a23848-b2d9-451b-a54a-402432f770ef",
   "metadata": {},
   "outputs": [
    {
     "data": {
      "text/html": [
       "<div>\n",
       "<style scoped>\n",
       "    .dataframe tbody tr th:only-of-type {\n",
       "        vertical-align: middle;\n",
       "    }\n",
       "\n",
       "    .dataframe tbody tr th {\n",
       "        vertical-align: top;\n",
       "    }\n",
       "\n",
       "    .dataframe thead th {\n",
       "        text-align: right;\n",
       "    }\n",
       "</style>\n",
       "<table border=\"1\" class=\"dataframe\">\n",
       "  <thead>\n",
       "    <tr style=\"text-align: right;\">\n",
       "      <th></th>\n",
       "      <th>Player</th>\n",
       "      <th>PF</th>\n",
       "      <th>Yds</th>\n",
       "      <th>Ply</th>\n",
       "      <th>Y/P</th>\n",
       "      <th>Win/Loss</th>\n",
       "      <th>FL</th>\n",
       "      <th>1stD</th>\n",
       "      <th>Home/Road</th>\n",
       "      <th>Att</th>\n",
       "      <th>...</th>\n",
       "      <th>1stPy</th>\n",
       "      <th>#Dr</th>\n",
       "      <th>Sc%</th>\n",
       "      <th>TO%</th>\n",
       "      <th>Start</th>\n",
       "      <th>Time</th>\n",
       "      <th>Plays</th>\n",
       "      <th>Yds</th>\n",
       "      <th>Pts</th>\n",
       "      <th>Team</th>\n",
       "    </tr>\n",
       "  </thead>\n",
       "  <tbody>\n",
       "    <tr>\n",
       "      <th>1</th>\n",
       "      <td>Team Stats</td>\n",
       "      <td>340</td>\n",
       "      <td>5499</td>\n",
       "      <td>1144.0</td>\n",
       "      <td>4.8</td>\n",
       "      <td>25</td>\n",
       "      <td>8</td>\n",
       "      <td>326</td>\n",
       "      <td>Road</td>\n",
       "      <td>664</td>\n",
       "      <td>...</td>\n",
       "      <td>22.0</td>\n",
       "      <td>187.0</td>\n",
       "      <td>32.1</td>\n",
       "      <td>12.8</td>\n",
       "      <td>Own 26.8</td>\n",
       "      <td>2:45</td>\n",
       "      <td>6.29</td>\n",
       "      <td>29.2</td>\n",
       "      <td>1.65</td>\n",
       "      <td>Arizona Cardinals</td>\n",
       "    </tr>\n",
       "    <tr>\n",
       "      <th>2</th>\n",
       "      <td>Opp. Stats</td>\n",
       "      <td>449</td>\n",
       "      <td>5931</td>\n",
       "      <td>1075.0</td>\n",
       "      <td>5.5</td>\n",
       "      <td>20</td>\n",
       "      <td>9</td>\n",
       "      <td>363</td>\n",
       "      <td>Road</td>\n",
       "      <td>593</td>\n",
       "      <td>...</td>\n",
       "      <td>21.0</td>\n",
       "      <td>190.0</td>\n",
       "      <td>41.6</td>\n",
       "      <td>10.5</td>\n",
       "      <td>Own 31.3</td>\n",
       "      <td>2:44</td>\n",
       "      <td>5.8</td>\n",
       "      <td>31.2</td>\n",
       "      <td>2.3</td>\n",
       "      <td>Arizona Cardinals</td>\n",
       "    </tr>\n",
       "  </tbody>\n",
       "</table>\n",
       "<p>2 rows × 32 columns</p>\n",
       "</div>"
      ],
      "text/plain": [
       "0      Player   PF   Yds     Ply  Y/P Win/Loss FL 1stD Home/Road  Att  ...  \\\n",
       "1  Team Stats  340  5499  1144.0  4.8       25  8  326      Road  664  ...   \n",
       "2  Opp. Stats  449  5931  1075.0  5.5       20  9  363      Road  593  ...   \n",
       "\n",
       "0 1stPy    #Dr   Sc%   TO%     Start  Time Plays   Yds   Pts  \\\n",
       "1  22.0  187.0  32.1  12.8  Own 26.8  2:45  6.29  29.2  1.65   \n",
       "2  21.0  190.0  41.6  10.5  Own 31.3  2:44   5.8  31.2   2.3   \n",
       "\n",
       "0               Team  \n",
       "1  Arizona Cardinals  \n",
       "2  Arizona Cardinals  \n",
       "\n",
       "[2 rows x 32 columns]"
      ]
     },
     "execution_count": 19,
     "metadata": {},
     "output_type": "execute_result"
    }
   ],
   "source": [
    "nfl.head(2)"
   ]
  },
  {
   "cell_type": "code",
   "execution_count": 22,
   "id": "356317bf-046f-4e45-845b-13bf7f580fb3",
   "metadata": {},
   "outputs": [
    {
     "name": "stdout",
     "output_type": "stream",
     "text": [
      "   Week  Day          Date Unnamed: 3_level_1 Unnamed: 4_level_1 Win/Loss  \\\n",
      "0     1  Sun  September 11          4:25PM ET           boxscore        L   \n",
      "1     2  Sun  September 18          4:25PM ET           boxscore        W   \n",
      "2     3  Sun  September 25          4:25PM ET           boxscore        L   \n",
      "3     4  Sun     October 2          4:05PM ET           boxscore        W   \n",
      "4     5  Sun     October 9          4:25PM ET           boxscore        L   \n",
      "\n",
      "    OT  Rec Home/Road                  Opp  ...  RushY   TO Offense Defense  \\\n",
      "0  NaN  0-1      Home   Kansas City Chiefs  ...  128.0  1.0    2.29  -33.41   \n",
      "1   OT  1-1      Road    Las Vegas Raiders  ...   80.0  1.0    12.0   -4.86   \n",
      "2  NaN  1-2      Home     Los Angeles Rams  ...  100.0  1.0     0.8   -5.31   \n",
      "3  NaN  2-2      Road    Carolina Panthers  ...   40.0  3.0   -6.14   19.54   \n",
      "4  NaN  2-3      Home  Philadelphia Eagles  ...  139.0  NaN   12.33  -10.63   \n",
      "\n",
      "  Sp. Tms               Team      Total     Home     Away Attendance  \n",
      "0    6.88  Arizona Cardinals  1,141,794  586,830  554,964      63697  \n",
      "1    1.75  Arizona Cardinals  1,141,794  586,830  554,964      61707  \n",
      "2   -5.72  Arizona Cardinals  1,141,794  586,830  554,964      63243  \n",
      "3    -1.9  Arizona Cardinals  1,141,794  586,830  554,964      69810  \n",
      "4   -5.16  Arizona Cardinals  1,141,794  586,830  554,964      63919  \n",
      "\n",
      "[5 rows x 30 columns]\n"
     ]
    }
   ],
   "source": [
    "# Drop rows with non-numeric weeks\n",
    "nfl = nfl[nfl['Week'].astype(str).str.isdigit()]\n",
    "\n",
    "attendance_long.rename(columns={'Tm': 'Team'}, inplace=True)\n",
    "\n",
    "# Convert Week to integers\n",
    "nfl['Week'] = nfl['Week'].astype(int)\n",
    "attendance_long['Week'] = attendance_long['Week'].astype(int)\n",
    "\n",
    "# Merge the two DataFrames on Tm and Week\n",
    "merged_df = pd.merge(\n",
    "    nfl,  # Game performance DataFrame\n",
    "    attendance_long,  # Attendance DataFrame\n",
    "    on=['Team', 'Week'],  # Merge on Team and Week\n",
    "    how='left'  # Use 'left' to keep all rows from the nfl DataFrame\n",
    ")\n",
    "\n",
    "# Preview the merged DataFrame\n",
    "print(merged_df.head())"
   ]
  },
  {
   "cell_type": "code",
   "execution_count": 24,
   "id": "a3e168a3-afb6-4717-a1cc-96c1b7efd17b",
   "metadata": {},
   "outputs": [
    {
     "data": {
      "text/html": [
       "<div>\n",
       "<style scoped>\n",
       "    .dataframe tbody tr th:only-of-type {\n",
       "        vertical-align: middle;\n",
       "    }\n",
       "\n",
       "    .dataframe tbody tr th {\n",
       "        vertical-align: top;\n",
       "    }\n",
       "\n",
       "    .dataframe thead th {\n",
       "        text-align: right;\n",
       "    }\n",
       "</style>\n",
       "<table border=\"1\" class=\"dataframe\">\n",
       "  <thead>\n",
       "    <tr style=\"text-align: right;\">\n",
       "      <th></th>\n",
       "      <th>Week</th>\n",
       "      <th>Day</th>\n",
       "      <th>Date</th>\n",
       "      <th>Unnamed: 3_level_1</th>\n",
       "      <th>Unnamed: 4_level_1</th>\n",
       "      <th>Win/Loss</th>\n",
       "      <th>OT</th>\n",
       "      <th>Rec</th>\n",
       "      <th>Home/Road</th>\n",
       "      <th>Opp</th>\n",
       "      <th>...</th>\n",
       "      <th>Offense</th>\n",
       "      <th>Defense</th>\n",
       "      <th>Sp. Tms</th>\n",
       "      <th>Team</th>\n",
       "      <th>Total</th>\n",
       "      <th>Home</th>\n",
       "      <th>Away</th>\n",
       "      <th>Attendance</th>\n",
       "      <th>Capacity</th>\n",
       "      <th>Fill Percentage</th>\n",
       "    </tr>\n",
       "  </thead>\n",
       "  <tbody>\n",
       "    <tr>\n",
       "      <th>0</th>\n",
       "      <td>1</td>\n",
       "      <td>Sun</td>\n",
       "      <td>September 11</td>\n",
       "      <td>4:25PM ET</td>\n",
       "      <td>boxscore</td>\n",
       "      <td>L</td>\n",
       "      <td>NaN</td>\n",
       "      <td>0-1</td>\n",
       "      <td>Home</td>\n",
       "      <td>Kansas City Chiefs</td>\n",
       "      <td>...</td>\n",
       "      <td>2.29</td>\n",
       "      <td>-33.41</td>\n",
       "      <td>6.88</td>\n",
       "      <td>Arizona Cardinals</td>\n",
       "      <td>1,141,794</td>\n",
       "      <td>586,830</td>\n",
       "      <td>554,964</td>\n",
       "      <td>63697</td>\n",
       "      <td>63400</td>\n",
       "      <td>100.468454</td>\n",
       "    </tr>\n",
       "    <tr>\n",
       "      <th>1</th>\n",
       "      <td>2</td>\n",
       "      <td>Sun</td>\n",
       "      <td>September 18</td>\n",
       "      <td>4:25PM ET</td>\n",
       "      <td>boxscore</td>\n",
       "      <td>W</td>\n",
       "      <td>OT</td>\n",
       "      <td>1-1</td>\n",
       "      <td>Road</td>\n",
       "      <td>Las Vegas Raiders</td>\n",
       "      <td>...</td>\n",
       "      <td>12.0</td>\n",
       "      <td>-4.86</td>\n",
       "      <td>1.75</td>\n",
       "      <td>Arizona Cardinals</td>\n",
       "      <td>1,141,794</td>\n",
       "      <td>586,830</td>\n",
       "      <td>554,964</td>\n",
       "      <td>61707</td>\n",
       "      <td>63400</td>\n",
       "      <td>97.329653</td>\n",
       "    </tr>\n",
       "  </tbody>\n",
       "</table>\n",
       "<p>2 rows × 32 columns</p>\n",
       "</div>"
      ],
      "text/plain": [
       "   Week  Day          Date Unnamed: 3_level_1 Unnamed: 4_level_1 Win/Loss  \\\n",
       "0     1  Sun  September 11          4:25PM ET           boxscore        L   \n",
       "1     2  Sun  September 18          4:25PM ET           boxscore        W   \n",
       "\n",
       "    OT  Rec Home/Road                 Opp  ... Offense Defense Sp. Tms  \\\n",
       "0  NaN  0-1      Home  Kansas City Chiefs  ...    2.29  -33.41    6.88   \n",
       "1   OT  1-1      Road   Las Vegas Raiders  ...    12.0   -4.86    1.75   \n",
       "\n",
       "                Team      Total     Home     Away Attendance Capacity  \\\n",
       "0  Arizona Cardinals  1,141,794  586,830  554,964      63697    63400   \n",
       "1  Arizona Cardinals  1,141,794  586,830  554,964      61707    63400   \n",
       "\n",
       "  Fill Percentage  \n",
       "0      100.468454  \n",
       "1       97.329653  \n",
       "\n",
       "[2 rows x 32 columns]"
      ]
     },
     "execution_count": 24,
     "metadata": {},
     "output_type": "execute_result"
    }
   ],
   "source": [
    "# reloading so don't need to rerun above code all the time\n",
    "nfl2022 = pd.read_csv(\"nfl2022.csv\")\n",
    "nfl2022.head(2)"
   ]
  },
  {
   "cell_type": "markdown",
   "id": "fc612a6b-6e40-4ae4-9d29-c5964c6d82e6",
   "metadata": {},
   "source": [
    "We had already imported the attendance data before deciding to not include it in our final visualizations"
   ]
  },
  {
   "cell_type": "code",
   "execution_count": 47,
   "id": "e7f2757f-a5eb-4275-b3ae-ede4ea49a154",
   "metadata": {},
   "outputs": [
    {
     "data": {
      "image/png": "[encoded data removed]",
      "text/plain": [
       "<Figure size 1200x800 with 1 Axes>"
      ]
     },
     "metadata": {},
     "output_type": "display_data"
    }
   ],
   "source": [
    "# Filter for home and away games\n",
    "home_games = nfl2022[nfl2022['Home/Road'] == 'Home'].copy()\n",
    "away_games = nfl2022[nfl2022['Home/Road'] == 'Road'].copy()\n",
    "\n",
    "# Group by team and calculate the home win percentage\n",
    "home_win_percentage = home_games.groupby('Team')['Win/Loss'].value_counts().unstack()\n",
    "home_win_percentage['Win Percentage'] = (home_win_percentage['W']) / (home_win_percentage['W'] + home_win_percentage['L'])\n",
    "\n",
    "# Group by team and calculate the away win percentage\n",
    "away_win_percentage = away_games.groupby('Team')['Win/Loss'].value_counts().unstack()\n",
    "away_win_percentage['Win Percentage'] = (away_win_percentage['W']) / (away_win_percentage['W'] + away_win_percentage['L'])\n",
    "\n",
    "# Calculate the difference between home and away win percentages\n",
    "win_percentage_diff = home_win_percentage['Win Percentage'] - away_win_percentage['Win Percentage']\n",
    "\n",
    "# Merge win percentage difference and average stadium fill into one DataFrame\n",
    "team_stats = pd.DataFrame({\n",
    "    'Win Percentage Diff': win_percentage_diff\n",
    "})\n",
    "\n",
    "# Sort the DataFrame by win percentage difference in descending order\n",
    "team_stats = team_stats.sort_values(by='Win Percentage Diff', ascending=False)\n",
    "\n",
    "# Create a subplot for both win percentage difference and average stadium fill\n",
    "fig, ax1 = plt.subplots(figsize=(12, 8))\n",
    "\n",
    "# Plot the win percentage difference\n",
    "sns.barplot(x=team_stats.index, y=team_stats['Win Percentage Diff'], palette='viridis', ax=ax1)\n",
    "ax1.set_xlabel('Team')\n",
    "ax1.set_ylabel('Home-Away Win Percentage Difference', color='blue')\n",
    "ax1.tick_params(axis='y', labelcolor='blue')\n",
    "plt.xticks(rotation=90)\n",
    "\n",
    "# Suppress warning\n",
    "import warnings\n",
    "warnings.filterwarnings(\"ignore\", category=FutureWarning)\n",
    "\n",
    "# Add title\n",
    "plt.title(\"Home-Away Win Percentage Difference by NFL Team (2022 Season)\")\n",
    "\n",
    "# Show plot\n",
    "plt.show()"
   ]
  },
  {
   "cell_type": "markdown",
   "id": "9407c5c2-badb-449c-9968-ef7a940fd02a",
   "metadata": {},
   "source": [
    "Texans didn't show up for some reason"
   ]
  },
  {
   "cell_type": "markdown",
   "id": "1882d8db-c8e7-4d49-8d67-60eafa9b6fde",
   "metadata": {},
   "source": [
    "We also ran the same data importing for the 2023 season and can produce the same visualization"
   ]
  },
  {
   "cell_type": "code",
   "execution_count": 34,
   "id": "b57c5534-b3fb-4b37-b9de-25221a97df64",
   "metadata": {},
   "outputs": [],
   "source": [
    "nfl2023 = pd.read_csv(\"nfl2023.csv\")"
   ]
  },
  {
   "cell_type": "code",
   "execution_count": 45,
   "id": "70aad577-a096-46b9-850f-a376d60eaf20",
   "metadata": {},
   "outputs": [
    {
     "data": {
      "image/png": "[encoded data removed]",
      "text/plain": [
       "<Figure size 1200x800 with 1 Axes>"
      ]
     },
     "metadata": {},
     "output_type": "display_data"
    }
   ],
   "source": [
    "import matplotlib.pyplot as plt\n",
    "import seaborn as sns\n",
    "\n",
    "# Filter for home and away games\n",
    "home_games = nfl2023[nfl2023['Home/Road'] == 'Home'].copy()\n",
    "away_games = nfl2023[nfl2023['Home/Road'] == 'Road'].copy()\n",
    "\n",
    "# Group by team and calculate the home win percentage\n",
    "home_win_percentage = home_games.groupby('Team')['Win/Loss'].value_counts().unstack()\n",
    "home_win_percentage['Win Percentage'] = (home_win_percentage['W']) / (home_win_percentage['W'] + home_win_percentage['L'])\n",
    "\n",
    "# Group by team and calculate the away win percentage\n",
    "away_win_percentage = away_games.groupby('Team')['Win/Loss'].value_counts().unstack()\n",
    "away_win_percentage['Win Percentage'] = (away_win_percentage['W']) / (away_win_percentage['W'] + away_win_percentage['L'])\n",
    "\n",
    "# Calculate the difference between home and away win percentages\n",
    "win_percentage_diff = home_win_percentage['Win Percentage'] - away_win_percentage['Win Percentage']\n",
    "\n",
    "# Merge win percentage difference and average stadium fill into one DataFrame\n",
    "team_stats = pd.DataFrame({\n",
    "    'Win Percentage Diff': win_percentage_diff,\n",
    "})\n",
    "\n",
    "# Sort the DataFrame by win percentage difference in descending order\n",
    "team_stats = team_stats.sort_values(by='Win Percentage Diff', ascending=False)\n",
    "\n",
    "# Create a subplot for both win percentage difference and average stadium fill\n",
    "fig, ax1 = plt.subplots(figsize=(12, 8))\n",
    "\n",
    "# Plot the win percentage difference\n",
    "sns.barplot(x=team_stats.index, y=team_stats['Win Percentage Diff'], palette='viridis', ax=ax1)\n",
    "ax1.set_xlabel('Team')\n",
    "ax1.set_ylabel('Home-Away Win Percentage Difference', color='blue')\n",
    "ax1.tick_params(axis='y', labelcolor='blue')\n",
    "plt.xticks(rotation=90)\n",
    "\n",
    "# Add a legend\n",
    "ax2.legend(loc='upper right')\n",
    "\n",
    "# Suppress warning\n",
    "import warnings\n",
    "warnings.filterwarnings(\"ignore\", category=FutureWarning)\n",
    "\n",
    "# Add title\n",
    "plt.title(\"Home-Away Win Percentage Difference by NFL Team (2023 Season)\")\n",
    "\n",
    "# Show plot\n",
    "plt.show()"
   ]
  },
  {
   "cell_type": "markdown",
   "id": "ad4b017e-49dc-4c4c-ab74-bf385db5d58c",
   "metadata": {},
   "source": [
    "For some reason the Panthers and Cowboys aren't showing up"
   ]
  },
  {
   "cell_type": "code",
   "execution_count": null,
   "id": "4ab5778c-7c15-4164-8a2b-8943f220fc09",
   "metadata": {},
   "outputs": [],
   "source": []
  }
 ],
 "metadata": {
  "kernelspec": {
   "display_name": "Python 3 (ipykernel)",
   "language": "python",
   "name": "python3"
  },
  "language_info": {
   "codemirror_mode": {
    "name": "ipython",
    "version": 3
   },
   "file_extension": ".py",
   "mimetype": "text/x-python",
   "name": "python",
   "nbconvert_exporter": "python",
   "pygments_lexer": "ipython3",
   "version": "3.11.6"
  }
 },
 "nbformat": 4,
 "nbformat_minor": 5
}
