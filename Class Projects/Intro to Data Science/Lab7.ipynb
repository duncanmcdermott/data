{
 "cells": [
  {
   "cell_type": "markdown",
   "id": "f2033833-f7f4-4ebd-9d42-cee4ae15b3fc",
   "metadata": {},
   "source": [
    "**Lab 7** - selected answers in bold\n",
    "\n",
    "**Instructions:**\n",
    "Where applicable, use a random_state of 146.\n",
    "\n",
    "For accuracy of a specific class, we use the definition of \"recall\" -- (correct predictions for the class)/(all actual values for the class). That is, we are looking at the row-wise calculation in the confusion matrix. \n",
    "\n",
    "Throughout these questions I will use some abbreviations:\n",
    "\n",
    "-X refers to the raw, unscaled, untransformed data\n",
    "\n",
    "-Xs refers to the data after being standardized\n",
    "\n",
    "-PCA(X) means to perform a PCA on X\n",
    "\n",
    "-PCA(Xs) means to perform a PCA on the standardized version of X\n",
    "\n",
    "-TSNE(X) means to perform a tSNE transformation on X\n",
    "\n",
    "-TSNE(Xs) means to perform a tSNE transformation on the standardized version of X\n",
    "\n",
    "-Whenever you are asked to perform both feature scaling as well as dimensionality reduction, do the feature scaling BEFORE the dimensionality reduction"
   ]
  },
  {
   "cell_type": "markdown",
   "id": "623a9506-b099-497d-b09c-6f4dfb8d55df",
   "metadata": {},
   "source": [
    "**1**\n",
    "\n",
    "If we were given a dataset that describes the customers of a grocery store.\n",
    "We would like to know roughly which sub-groups the customers belong to, but we do not know the predefined sub-groups. \n",
    "Which of the following learning algorithms should we use?\n",
    "\n",
    "\n",
    "K-nearest neighbors\n",
    "\n",
    "\n",
    "**K-means clustering**\n",
    "\n",
    "\n",
    "Random forests\n",
    "\n",
    "\n",
    "Logistic regression"
   ]
  },
  {
   "cell_type": "markdown",
   "id": "8c014ee3-416d-4ad6-9e05-f18ee62b854d",
   "metadata": {},
   "source": [
    "**2**\n",
    "\n",
    "Which of the following statements is true regarding the objective of K-means clustering? \n",
    "\n",
    "The objective is to maximize the within cluster variance\n",
    "\n",
    "The Kmeans.score returns the within cluster variance\n",
    "\n",
    "**It uses inertia, obtained by first calculating the variances for the data points within each cluster, and then summing them up**\n",
    "\n",
    "We can use within cluster variance to compare the performances of clustering algorithms on different datasets"
   ]
  },
  {
   "cell_type": "markdown",
   "id": "f5fdd6bc-970f-4265-871a-ae0768e2abe5",
   "metadata": {},
   "source": [
    "**3**\n",
    "\n",
    "Which of the following statements are true about K-meaning clustering? Select ALL that apply (there may be more than 1 correct answer). \n",
    "\n",
    "\n",
    "Centroids in k-means must be one of the data points from the actual dataset\n",
    "\n",
    "\n",
    "**A variant of it, called K-Means++, is usually more efficient because it selects the initial centroids sequentially in a way so that they are more distant from each other**\n",
    "\n",
    "\n",
    "**It is an iterative algorithm that iteratively updates the centroids of the clusters and the membership of the data points** \n",
    "\n",
    "\n",
    "**It starts by choosing centroids randomly**\n",
    "\n",
    "\n",
    "It automatically decides the optimal number of clusters so we don't need to specify it in the training step"
   ]
  },
  {
   "cell_type": "markdown",
   "id": "3fde71fd-7829-46a8-811f-277aa576881d",
   "metadata": {},
   "source": [
    "**4**\n",
    "\n",
    "Which of the following statements are true about unsupervised and supervised learning?  Select ALL that apply (there may be more than 1 correct answer).  \n",
    "\n",
    "\n",
    "The goals for both learning algorithms are the same\n",
    "\n",
    "\n",
    "Both need labels for the targets to train the models\n",
    "\n",
    "\n",
    "**Both can deal with more than one-dimensional input features**\n",
    "\n",
    "\n",
    "**Unsupervised learning can be used as pre-processing steps of supervised learning for preliminary analysis of the data patterns**\n",
    "\n",
    "\n",
    "Accuracy is used as the metric for evaluating the performance for both of the learning algorithms "
   ]
  },
  {
   "cell_type": "markdown",
   "id": "ce0fe511-501a-4863-b9bf-6313350d4904",
   "metadata": {},
   "source": [
    "**5**\n",
    "\n",
    "Which of the following statements are true about unsupervised learning? Select ALL that apply (there may be more than 1 correct answer). \n",
    "\n",
    "\n",
    "Dimension reduction algorithms such as PCA and TSNE are useful only when dimension of the data is high (e.g., >5), whereas clustering algorithms like K-means are only useful when dimension of the data is low (e.g., <=5). \n",
    "\n",
    "\n",
    "Because K-means clustering and PCA are both unsupervised learning algorithms, their objectives are the same\n",
    "\n",
    "\n",
    "**K-means clustering, PCA, and TSNE are all unsupervised learning algorithms**\n",
    "\n",
    "\n",
    "Because K-means clustering and PCA are both unsupervised learning algorithms, so they should be used exclusively. In other words, only one of them should be used in analyzing the same dataset\n",
    "\n",
    "\n",
    "PCA is a clustering algorithm\n",
    "\n",
    "\n",
    "**Dimension reduction can be combined with K-means clustering to identify patterns for high-dimensional data**"
   ]
  },
  {
   "cell_type": "markdown",
   "id": "78270390-9beb-49fa-bddb-9bdfd2057001",
   "metadata": {},
   "source": [
    "**6**\n",
    "\n",
    "For this week's project we will be using the sklearn iris dataset.  Once you have the data loaded, complete the following:\n",
    "\n",
    "\n",
    "\n",
    "\"This dataset contains a total of - data points. \n",
    "\n",
    "Within these, there are a total of - different classifications (i.e. species of plant)\n",
    "\n",
    "Each of which contains a total of - data points.\""
   ]
  },
  {
   "cell_type": "code",
   "execution_count": 2,
   "id": "9ff660b0-b257-4d1b-9c56-40dc4639022c",
   "metadata": {
    "tags": []
   },
   "outputs": [],
   "source": [
    "#Imports\n",
    "import pandas as pd\n",
    "import numpy as np\n",
    "import matplotlib.pyplot as plt\n",
    "from sklearn.datasets import load_iris as li\n",
    "from sklearn.linear_model import LogisticRegression as LR\n",
    "from sklearn.neighbors import KNeighborsClassifier as KNN\n",
    "from intro_Data_5 import *\n",
    "from sklearn.cluster import KMeans, kmeans_plusplus"
   ]
  },
  {
   "cell_type": "code",
   "execution_count": 3,
   "id": "0c47a462-4523-4db0-a064-c66580845ca1",
   "metadata": {
    "tags": []
   },
   "outputs": [],
   "source": [
    "# Load data, split into feature/target\n",
    "\n",
    "data = li()\n",
    "X = data.data\n",
    "X_names = data.feature_names\n",
    "\n",
    "y = data.target\n",
    "y_names = data.target_names\n",
    "\n",
    "X_df = pd.DataFrame(X,columns=X_names)"
   ]
  },
  {
   "cell_type": "code",
   "execution_count": 4,
   "id": "f88e67cc-7822-48c0-a4e2-cab0a7eebfb6",
   "metadata": {
    "tags": []
   },
   "outputs": [
    {
     "name": "stdout",
     "output_type": "stream",
     "text": [
      "150\n"
     ]
    }
   ],
   "source": [
    "#total data points\n",
    "print(len(X))"
   ]
  },
  {
   "cell_type": "markdown",
   "id": "27b65730-a2bb-4783-a294-de54481a86e1",
   "metadata": {
    "tags": []
   },
   "source": [
    "150 total data points"
   ]
  },
  {
   "cell_type": "code",
   "execution_count": 6,
   "id": "4f31c2a7-1322-47e7-919d-ddf7c9a812fd",
   "metadata": {
    "tags": []
   },
   "outputs": [
    {
     "data": {
      "text/plain": [
       "array(['setosa', 'versicolor', 'virginica'], dtype='<U10')"
      ]
     },
     "execution_count": 6,
     "metadata": {},
     "output_type": "execute_result"
    }
   ],
   "source": [
    "#species of plant\n",
    "y_names"
   ]
  },
  {
   "cell_type": "markdown",
   "id": "cec52882-b6e1-4198-b79a-43df37384f74",
   "metadata": {},
   "source": [
    "3 species of plants"
   ]
  },
  {
   "cell_type": "code",
   "execution_count": 7,
   "id": "0f9e22dd-f5e9-4d91-a5a6-b5b565c7dbe7",
   "metadata": {
    "tags": []
   },
   "outputs": [
    {
     "name": "stdout",
     "output_type": "stream",
     "text": [
      "50\n",
      "50\n",
      "50\n"
     ]
    }
   ],
   "source": [
    "#data points in each plant species\n",
    "print(np.count_nonzero(y==0))\n",
    "print(np.count_nonzero(y==1))\n",
    "print(np.count_nonzero(y==2))"
   ]
  },
  {
   "cell_type": "markdown",
   "id": "72df9f00-9246-455c-8275-74af50e3d59f",
   "metadata": {},
   "source": [
    "50 data points in each plant species"
   ]
  },
  {
   "cell_type": "markdown",
   "id": "4e0f3973-a5ae-4d79-a7fc-d00845045043",
   "metadata": {},
   "source": [
    "**7**\n",
    "\n",
    "It looks like that the optimal number of clusters k is 3 according to the prior knowledge that we have about the iris data. But let's plot the score-n_clusters curve anyway to validate our assumption. \n",
    "\n",
    "\n",
    "To do this, fit 10 K-means clustering models with k ranging from 1 to 10 (inclusive), and get the corresponding scores of the 10 models. Do not scale the features. For k-means, use random_state=146 and n_init=’auto’ and leave init to its default value (init=’k-means++’). \n",
    "\n",
    "Based on the curve and scores, the score increases by _ when k increases from 2 to 3,\n",
    "\n",
    "by _ when k increases from 3 to 4,\n",
    "\n",
    "and by _ when k increases from 3 to 10. (Keep two decimal places, e.g., 75.86) \n",
    "\n",
    "It seems that the increase of score has indeed been drastically dropped after k=3 and therefore k=3 is the 'Elbow' of the curve."
   ]
  },
  {
   "cell_type": "code",
   "execution_count": 53,
   "id": "f5c4c083-5cf2-481c-9799-c25a1e0f3608",
   "metadata": {
    "tags": []
   },
   "outputs": [
    {
     "data": {
      "text/html": [
       "<style>#sk-container-id-2 {color: black;background-color: white;}#sk-container-id-2 pre{padding: 0;}#sk-container-id-2 div.sk-toggleable {background-color: white;}#sk-container-id-2 label.sk-toggleable__label {cursor: pointer;display: block;width: 100%;margin-bottom: 0;padding: 0.3em;box-sizing: border-box;text-align: center;}#sk-container-id-2 label.sk-toggleable__label-arrow:before {content: \"▸\";float: left;margin-right: 0.25em;color: #696969;}#sk-container-id-2 label.sk-toggleable__label-arrow:hover:before {color: black;}#sk-container-id-2 div.sk-estimator:hover label.sk-toggleable__label-arrow:before {color: black;}#sk-container-id-2 div.sk-toggleable__content {max-height: 0;max-width: 0;overflow: hidden;text-align: left;background-color: #f0f8ff;}#sk-container-id-2 div.sk-toggleable__content pre {margin: 0.2em;color: black;border-radius: 0.25em;background-color: #f0f8ff;}#sk-container-id-2 input.sk-toggleable__control:checked~div.sk-toggleable__content {max-height: 200px;max-width: 100%;overflow: auto;}#sk-container-id-2 input.sk-toggleable__control:checked~label.sk-toggleable__label-arrow:before {content: \"▾\";}#sk-container-id-2 div.sk-estimator input.sk-toggleable__control:checked~label.sk-toggleable__label {background-color: #d4ebff;}#sk-container-id-2 div.sk-label input.sk-toggleable__control:checked~label.sk-toggleable__label {background-color: #d4ebff;}#sk-container-id-2 input.sk-hidden--visually {border: 0;clip: rect(1px 1px 1px 1px);clip: rect(1px, 1px, 1px, 1px);height: 1px;margin: -1px;overflow: hidden;padding: 0;position: absolute;width: 1px;}#sk-container-id-2 div.sk-estimator {font-family: monospace;background-color: #f0f8ff;border: 1px dotted black;border-radius: 0.25em;box-sizing: border-box;margin-bottom: 0.5em;}#sk-container-id-2 div.sk-estimator:hover {background-color: #d4ebff;}#sk-container-id-2 div.sk-parallel-item::after {content: \"\";width: 100%;border-bottom: 1px solid gray;flex-grow: 1;}#sk-container-id-2 div.sk-label:hover label.sk-toggleable__label {background-color: #d4ebff;}#sk-container-id-2 div.sk-serial::before {content: \"\";position: absolute;border-left: 1px solid gray;box-sizing: border-box;top: 0;bottom: 0;left: 50%;z-index: 0;}#sk-container-id-2 div.sk-serial {display: flex;flex-direction: column;align-items: center;background-color: white;padding-right: 0.2em;padding-left: 0.2em;position: relative;}#sk-container-id-2 div.sk-item {position: relative;z-index: 1;}#sk-container-id-2 div.sk-parallel {display: flex;align-items: stretch;justify-content: center;background-color: white;position: relative;}#sk-container-id-2 div.sk-item::before, #sk-container-id-2 div.sk-parallel-item::before {content: \"\";position: absolute;border-left: 1px solid gray;box-sizing: border-box;top: 0;bottom: 0;left: 50%;z-index: -1;}#sk-container-id-2 div.sk-parallel-item {display: flex;flex-direction: column;z-index: 1;position: relative;background-color: white;}#sk-container-id-2 div.sk-parallel-item:first-child::after {align-self: flex-end;width: 50%;}#sk-container-id-2 div.sk-parallel-item:last-child::after {align-self: flex-start;width: 50%;}#sk-container-id-2 div.sk-parallel-item:only-child::after {width: 0;}#sk-container-id-2 div.sk-dashed-wrapped {border: 1px dashed gray;margin: 0 0.4em 0.5em 0.4em;box-sizing: border-box;padding-bottom: 0.4em;background-color: white;}#sk-container-id-2 div.sk-label label {font-family: monospace;font-weight: bold;display: inline-block;line-height: 1.2em;}#sk-container-id-2 div.sk-label-container {text-align: center;}#sk-container-id-2 div.sk-container {/* jupyter's `normalize.less` sets `[hidden] { display: none; }` but bootstrap.min.css set `[hidden] { display: none !important; }` so we also need the `!important` here to be able to override the default hidden behavior on the sphinx rendered scikit-learn.org. See: https://github.com/scikit-learn/scikit-learn/issues/21755 */display: inline-block !important;position: relative;}#sk-container-id-2 div.sk-text-repr-fallback {display: none;}</style><div id=\"sk-container-id-2\" class=\"sk-top-container\"><div class=\"sk-text-repr-fallback\"><pre>KMeans(n_clusters=10, n_init=&#x27;auto&#x27;, random_state=146)</pre><b>In a Jupyter environment, please rerun this cell to show the HTML representation or trust the notebook. <br />On GitHub, the HTML representation is unable to render, please try loading this page with nbviewer.org.</b></div><div class=\"sk-container\" hidden><div class=\"sk-item\"><div class=\"sk-estimator sk-toggleable\"><input class=\"sk-toggleable__control sk-hidden--visually\" id=\"sk-estimator-id-2\" type=\"checkbox\" checked><label for=\"sk-estimator-id-2\" class=\"sk-toggleable__label sk-toggleable__label-arrow\">KMeans</label><div class=\"sk-toggleable__content\"><pre>KMeans(n_clusters=10, n_init=&#x27;auto&#x27;, random_state=146)</pre></div></div></div></div></div>"
      ],
      "text/plain": [
       "KMeans(n_clusters=10, n_init='auto', random_state=146)"
      ]
     },
     "execution_count": 53,
     "metadata": {},
     "output_type": "execute_result"
    }
   ],
   "source": [
    "X = data.data\n",
    "\n",
    "km = KMeans(n_clusters=10, random_state=146, n_init = 'auto')\n",
    "km.fit(X)"
   ]
  },
  {
   "cell_type": "code",
   "execution_count": 8,
   "id": "bc957770-e8fb-436f-b682-88396f74aaa0",
   "metadata": {
    "tags": []
   },
   "outputs": [
    {
     "name": "stdout",
     "output_type": "stream",
     "text": [
      "-681.3705999999995 for k of: 1\n",
      "-152.347951760358 for k of: 2\n",
      "-78.85566582597727 for k of: 3\n",
      "-57.25600931571815 for k of: 4\n",
      "-52.90178182234433 for k of: 5\n",
      "-51.180703256302536 for k of: 6\n",
      "-40.76160769230769 for k of: 7\n",
      "-35.65414285714285 for k of: 8\n",
      "-35.09876863354037 for k of: 9\n",
      "-27.692573828345584 for k of: 10\n"
     ]
    },
    {
     "data": {
      "text/plain": [
       "[-681.3705999999995,\n",
       " -152.347951760358,\n",
       " -78.85566582597727,\n",
       " -57.25600931571815,\n",
       " -52.90178182234433,\n",
       " -51.180703256302536,\n",
       " -40.76160769230769,\n",
       " -35.65414285714285,\n",
       " -35.09876863354037,\n",
       " -27.692573828345584]"
      ]
     },
     "execution_count": 8,
     "metadata": {},
     "output_type": "execute_result"
    }
   ],
   "source": [
    "# Get scores for a range of n_clusters\n",
    "scores=[]\n",
    "k_range = np.arange(1,11)\n",
    "for k in k_range:\n",
    "    km = KMeans(n_clusters=k, random_state=146, n_init='auto') \n",
    "    km.fit(X)\n",
    "    scores.append(km.score(X))\n",
    "    print(km.score(X),'for k of:', k) \n",
    "scores"
   ]
  },
  {
   "cell_type": "code",
   "execution_count": 14,
   "id": "cb46277a-f071-4f87-befb-4b2b4c75c2be",
   "metadata": {
    "tags": []
   },
   "outputs": [
    {
     "name": "stdout",
     "output_type": "stream",
     "text": [
      "The score increases by 73.49 when k increases from 2 to 3.\n"
     ]
    }
   ],
   "source": [
    "score_k2 = scores[1]\n",
    "score_k3 = scores[2]\n",
    "increase = abs(score_k2 - score_k3)\n",
    "print(\"The score increases by {:.2f} when k increases from 2 to 3.\".format(increase))"
   ]
  },
  {
   "cell_type": "code",
   "execution_count": 15,
   "id": "f3fd3a65-1835-4c46-9409-42a20823f4f1",
   "metadata": {
    "tags": []
   },
   "outputs": [
    {
     "name": "stdout",
     "output_type": "stream",
     "text": [
      "The score increases by 21.60 when k increases from 3 to 4.\n"
     ]
    }
   ],
   "source": [
    "score_k4 = scores[3]\n",
    "increase = abs(score_k3 - score_k4)\n",
    "print(\"The score increases by {:.2f} when k increases from 3 to 4.\".format(increase))"
   ]
  },
  {
   "cell_type": "code",
   "execution_count": 16,
   "id": "0468083f-3825-4097-a7b2-f886eccbb04f",
   "metadata": {
    "tags": []
   },
   "outputs": [
    {
     "name": "stdout",
     "output_type": "stream",
     "text": [
      "The score increases by 51.16 when k increases from 3 to 10.\n"
     ]
    }
   ],
   "source": [
    "score_k10 = scores[9]\n",
    "increase = abs(score_k3 - score_k10)\n",
    "print(\"The score increases by {:.2f} when k increases from 3 to 10.\".format(increase))"
   ]
  },
  {
   "cell_type": "markdown",
   "id": "b953e2f3-a169-4abc-a1ef-ba960e7274dd",
   "metadata": {},
   "source": [
    "**8**\n",
    "\n",
    "Let's take a closer look at K-means with k=3 (use always random_state=146 and n_init=’auto’). After determining which cluster labels should correspond to which of the actual classifications, how many points appear to be clustered incorrectly? \n",
    "**17**\n",
    "\n",
    "Be sure to compare the correct groups to each other (i.e. make sure that what k-means calls 0 is what is called 0 in the actual data)."
   ]
  },
  {
   "cell_type": "code",
   "execution_count": 87,
   "id": "094bdb92-3ad1-4be0-9942-1f703fb5aeac",
   "metadata": {
    "tags": []
   },
   "outputs": [],
   "source": [
    "km = KMeans(n_clusters=3, random_state=146, n_init = 'auto')\n",
    "km.fit(X)\n",
    "groups = km.predict(X)"
   ]
  },
  {
   "cell_type": "code",
   "execution_count": 88,
   "id": "170fc756-e6ca-49d9-8613-942a61220b24",
   "metadata": {
    "tags": []
   },
   "outputs": [
    {
     "name": "stdout",
     "output_type": "stream",
     "text": [
      "[2 2 2 2 2 2 2 2 2 2 2 2 2 2 2 2 2 2 2 2 2 2 2 2 2 2 2 2 2 2 2 2 2 2 2 2 2\n",
      " 2 2 2 2 2 2 2 2 2 2 2 2 2 1 0 1 0 0 0 0 0 0 0 0 0 0 0 0 0 0 0 0 0 0 0 0 0\n",
      " 0 0 0 1 0 0 0 0 0 0 0 0 0 0 0 0 0 0 0 0 0 0 0 0 0 0 1 0 1 1 1 1 0 1 1 1 1\n",
      " 1 1 0 0 1 1 1 1 0 1 0 1 0 1 1 0 0 1 1 1 1 1 0 1 1 1 1 0 1 1 1 0 1 1 1 0 1\n",
      " 1 0]\n"
     ]
    }
   ],
   "source": [
    "print(km.predict(X))"
   ]
  },
  {
   "cell_type": "code",
   "execution_count": 89,
   "id": "fea4c7d2-b7c4-477c-985c-a0e7e5944f08",
   "metadata": {
    "tags": []
   },
   "outputs": [
    {
     "name": "stdout",
     "output_type": "stream",
     "text": [
      "[0 0 0 0 0 0 0 0 0 0 0 0 0 0 0 0 0 0 0 0 0 0 0 0 0 0 0 0 0 0 0 0 0 0 0 0 0\n",
      " 0 0 0 0 0 0 0 0 0 0 0 0 0 1 1 1 1 1 1 1 1 1 1 1 1 1 1 1 1 1 1 1 1 1 1 1 1\n",
      " 1 1 1 1 1 1 1 1 1 1 1 1 1 1 1 1 1 1 1 1 1 1 1 1 1 1 2 2 2 2 2 2 2 2 2 2 2\n",
      " 2 2 2 2 2 2 2 2 2 2 2 2 2 2 2 2 2 2 2 2 2 2 2 2 2 2 2 2 2 2 2 2 2 2 2 2 2\n",
      " 2 2]\n"
     ]
    }
   ],
   "source": [
    "print(y)"
   ]
  },
  {
   "cell_type": "code",
   "execution_count": 90,
   "id": "658e800a-c465-48d5-8e1f-9565864d5c41",
   "metadata": {
    "tags": []
   },
   "outputs": [
    {
     "data": {
      "text/plain": [
       "array([2, 2, 2, 2, 2, 2, 2, 2, 2, 2, 2, 2, 2, 2, 2, 2, 2, 2, 2, 2, 2, 2,\n",
       "       2, 2, 2, 2, 2, 2, 2, 2, 2, 2, 2, 2, 2, 2, 2, 2, 2, 2, 2, 2, 2, 2,\n",
       "       2, 2, 2, 2, 2, 2, 1, 0, 1, 0, 0, 0, 0, 0, 0, 0, 0, 0, 0, 0, 0, 0,\n",
       "       0, 0, 0, 0, 0, 0, 0, 0, 0, 0, 0, 1, 0, 0, 0, 0, 0, 0, 0, 0, 0, 0,\n",
       "       0, 0, 0, 0, 0, 0, 0, 0, 0, 0, 0, 0, 1, 0, 1, 1, 1, 1, 0, 1, 1, 1,\n",
       "       1, 1, 1, 0, 0, 1, 1, 1, 1, 0, 1, 0, 1, 0, 1, 1, 0, 0, 1, 1, 1, 1,\n",
       "       1, 0, 1, 1, 1, 1, 0, 1, 1, 1, 0, 1, 1, 1, 0, 1, 1, 0], dtype=int32)"
      ]
     },
     "execution_count": 90,
     "metadata": {},
     "output_type": "execute_result"
    }
   ],
   "source": [
    "groups"
   ]
  },
  {
   "cell_type": "code",
   "execution_count": 91,
   "id": "96a63c88-6552-4c23-ae3b-b95a5c8e2f21",
   "metadata": {
    "tags": []
   },
   "outputs": [
    {
     "data": {
      "text/plain": [
       "array([0, 0, 0, 0, 0, 0, 0, 0, 0, 0, 0, 0, 0, 0, 0, 0, 0, 0, 0, 0, 0, 0,\n",
       "       0, 0, 0, 0, 0, 0, 0, 0, 0, 0, 0, 0, 0, 0, 0, 0, 0, 0, 0, 0, 0, 0,\n",
       "       0, 0, 0, 0, 0, 0, 1, 1, 1, 1, 1, 1, 1, 1, 1, 1, 1, 1, 1, 1, 1, 1,\n",
       "       1, 1, 1, 1, 1, 1, 1, 1, 1, 1, 1, 1, 1, 1, 1, 1, 1, 1, 1, 1, 1, 1,\n",
       "       1, 1, 1, 1, 1, 1, 1, 1, 1, 1, 1, 1, 2, 2, 2, 2, 2, 2, 2, 2, 2, 2,\n",
       "       2, 2, 2, 2, 2, 2, 2, 2, 2, 2, 2, 2, 2, 2, 2, 2, 2, 2, 2, 2, 2, 2,\n",
       "       2, 2, 2, 2, 2, 2, 2, 2, 2, 2, 2, 2, 2, 2, 2, 2, 2, 2])"
      ]
     },
     "execution_count": 91,
     "metadata": {},
     "output_type": "execute_result"
    }
   ],
   "source": [
    "real_groups = y\n",
    "real_groups"
   ]
  },
  {
   "cell_type": "code",
   "execution_count": 100,
   "id": "39c842d5-8f7a-475c-b494-5601951cbe7a",
   "metadata": {
    "tags": []
   },
   "outputs": [],
   "source": [
    "# The labels of groups 1 and 2 are reversed. Let's switch them over.\n",
    "temp = groups == 1\n",
    "\n",
    "change = groups == 2\n",
    "groups[temp] = 2\n",
    "groups[change] = 1"
   ]
  },
  {
   "cell_type": "code",
   "execution_count": 101,
   "id": "047b36dc-e26f-4b61-9828-3bee62aeba56",
   "metadata": {
    "tags": []
   },
   "outputs": [
    {
     "name": "stdout",
     "output_type": "stream",
     "text": [
      "Test accuracy = 0.89\n"
     ]
    },
    {
     "data": {
      "text/html": [
       "<div>\n",
       "<style scoped>\n",
       "    .dataframe tbody tr th:only-of-type {\n",
       "        vertical-align: middle;\n",
       "    }\n",
       "\n",
       "    .dataframe tbody tr th {\n",
       "        vertical-align: top;\n",
       "    }\n",
       "\n",
       "    .dataframe thead th {\n",
       "        text-align: right;\n",
       "    }\n",
       "</style>\n",
       "<table border=\"1\" class=\"dataframe\">\n",
       "  <thead>\n",
       "    <tr style=\"text-align: right;\">\n",
       "      <th>Predicted</th>\n",
       "      <th>0</th>\n",
       "      <th>1</th>\n",
       "      <th>2</th>\n",
       "    </tr>\n",
       "    <tr>\n",
       "      <th>Actual</th>\n",
       "      <th></th>\n",
       "      <th></th>\n",
       "      <th></th>\n",
       "    </tr>\n",
       "  </thead>\n",
       "  <tbody>\n",
       "    <tr>\n",
       "      <th>0</th>\n",
       "      <td>50</td>\n",
       "      <td>0</td>\n",
       "      <td>0</td>\n",
       "    </tr>\n",
       "    <tr>\n",
       "      <th>1</th>\n",
       "      <td>0</td>\n",
       "      <td>47</td>\n",
       "      <td>3</td>\n",
       "    </tr>\n",
       "    <tr>\n",
       "      <th>2</th>\n",
       "      <td>0</td>\n",
       "      <td>14</td>\n",
       "      <td>36</td>\n",
       "    </tr>\n",
       "  </tbody>\n",
       "</table>\n",
       "</div>"
      ],
      "text/plain": [
       "Predicted   0   1   2\n",
       "Actual               \n",
       "0          50   0   0\n",
       "1           0  47   3\n",
       "2           0  14  36"
      ]
     },
     "execution_count": 101,
     "metadata": {},
     "output_type": "execute_result"
    }
   ],
   "source": [
    "conf_matrix, accuracy = compare_classes(real_groups, groups)\n",
    "conf_matrix"
   ]
  },
  {
   "cell_type": "markdown",
   "id": "9e85c8aa-411e-4f8e-8452-70d801b39724",
   "metadata": {},
   "source": [
    "**9**\n",
    "\n",
    "Since we are basing clustering on distance, we might consider standardizing our data for better performance.\n",
    "\n",
    "On the other hand, all of our features are measured in centimeters - so it might be better to leave the data as is.\n",
    "\n",
    "Using k = 3, test k-means clustering with standardization and compare with the results in the previous question (without standardization). After determining which cluster labels should correspond to which of the actual classifications, which of the following statements apply? Select ALL answers that apply (i.e. there may be more than 1). \n",
    "\n",
    "Be sure to compare the correct groups to each other (i.e. make sure that what k-means calls 0 is what is called 0 in the actual data)\n",
    "\n",
    "\n",
    "-**There are more misclassified points for the scaled data than the unscaled data.**\n",
    "\n",
    "\n",
    "-**k-means has the same performance on the Setosa data regardless of scaling**\n",
    "\n",
    "\n",
    "-k-means has the same performance on the Versicolor data regardless of scaling\n",
    "\n",
    "\n",
    "-The difference in accuracies is more than 2X (i.e. one of the accuracies is more than 2 times the other)\n"
   ]
  },
  {
   "cell_type": "code",
   "execution_count": 33,
   "id": "168f4eac-51f6-4270-9569-06dd5b748be8",
   "metadata": {
    "tags": []
   },
   "outputs": [],
   "source": [
    "from sklearn.preprocessing import StandardScaler as SS\n",
    "Xs = SS().fit_transform(X)"
   ]
  },
  {
   "cell_type": "code",
   "execution_count": 34,
   "id": "851456f7-662e-489a-9748-9cdf4d5ebb6d",
   "metadata": {
    "tags": []
   },
   "outputs": [],
   "source": [
    "km = KMeans(n_clusters=3, random_state=146, n_init = 'auto')\n",
    "km.fit(Xs)\n",
    "groups = km.predict(Xs)"
   ]
  },
  {
   "cell_type": "code",
   "execution_count": 35,
   "id": "9452a2ea-b76d-44bb-843d-a25b9ed8743e",
   "metadata": {
    "tags": []
   },
   "outputs": [
    {
     "data": {
      "text/plain": [
       "array([2, 2, 2, 2, 2, 2, 2, 2, 2, 2, 2, 2, 2, 2, 2, 2, 2, 2, 2, 2, 2, 2,\n",
       "       2, 2, 2, 2, 2, 2, 2, 2, 2, 2, 2, 2, 2, 2, 2, 2, 2, 2, 2, 2, 2, 2,\n",
       "       2, 2, 2, 2, 2, 2, 1, 1, 1, 0, 0, 0, 1, 0, 0, 0, 0, 0, 0, 0, 0, 1,\n",
       "       0, 0, 0, 0, 1, 0, 0, 0, 0, 1, 1, 1, 0, 0, 0, 0, 0, 0, 0, 1, 1, 0,\n",
       "       0, 0, 0, 0, 0, 0, 0, 0, 0, 0, 0, 0, 1, 0, 1, 1, 1, 1, 0, 1, 0, 1,\n",
       "       1, 0, 1, 0, 0, 1, 1, 1, 1, 0, 1, 0, 1, 0, 1, 1, 0, 0, 1, 1, 1, 1,\n",
       "       1, 0, 0, 1, 1, 1, 0, 1, 1, 1, 0, 1, 1, 1, 0, 1, 1, 0], dtype=int32)"
      ]
     },
     "execution_count": 35,
     "metadata": {},
     "output_type": "execute_result"
    }
   ],
   "source": [
    "groups"
   ]
  },
  {
   "cell_type": "code",
   "execution_count": 36,
   "id": "8668ee24-54e9-4457-93bd-d3ac3fa34f6e",
   "metadata": {
    "tags": []
   },
   "outputs": [
    {
     "data": {
      "text/plain": [
       "array([0, 0, 0, 0, 0, 0, 0, 0, 0, 0, 0, 0, 0, 0, 0, 0, 0, 0, 0, 0, 0, 0,\n",
       "       0, 0, 0, 0, 0, 0, 0, 0, 0, 0, 0, 0, 0, 0, 0, 0, 0, 0, 0, 0, 0, 0,\n",
       "       0, 0, 0, 0, 0, 0, 1, 1, 1, 1, 1, 1, 1, 1, 1, 1, 1, 1, 1, 1, 1, 1,\n",
       "       1, 1, 1, 1, 1, 1, 1, 1, 1, 1, 1, 1, 1, 1, 1, 1, 1, 1, 1, 1, 1, 1,\n",
       "       1, 1, 1, 1, 1, 1, 1, 1, 1, 1, 1, 1, 2, 2, 2, 2, 2, 2, 2, 2, 2, 2,\n",
       "       2, 2, 2, 2, 2, 2, 2, 2, 2, 2, 2, 2, 2, 2, 2, 2, 2, 2, 2, 2, 2, 2,\n",
       "       2, 2, 2, 2, 2, 2, 2, 2, 2, 2, 2, 2, 2, 2, 2, 2, 2, 2])"
      ]
     },
     "execution_count": 36,
     "metadata": {},
     "output_type": "execute_result"
    }
   ],
   "source": [
    "real_groups = y\n",
    "real_groups"
   ]
  },
  {
   "cell_type": "code",
   "execution_count": 38,
   "id": "67fe66b1-10e5-4467-a91d-ac9427a78453",
   "metadata": {
    "tags": []
   },
   "outputs": [],
   "source": [
    "# The labels of groups 1 and 2 are reversed. Let's switch them over.\n",
    "temp = groups == 0\n",
    "\n",
    "change = groups == 2\n",
    "groups[temp] = 2\n",
    "groups[change] = 0"
   ]
  },
  {
   "cell_type": "code",
   "execution_count": 39,
   "id": "13fddaff-0dd0-403c-a688-895f75478b88",
   "metadata": {
    "tags": []
   },
   "outputs": [],
   "source": [
    "temp = groups == 1\n",
    "\n",
    "change = groups == 2\n",
    "groups[temp] = 2\n",
    "groups[change] = 1"
   ]
  },
  {
   "cell_type": "code",
   "execution_count": 40,
   "id": "3fd176e6-d9c6-404e-a1b4-f15239934c86",
   "metadata": {
    "tags": []
   },
   "outputs": [
    {
     "name": "stdout",
     "output_type": "stream",
     "text": [
      "Test accuracy = 0.81\n"
     ]
    },
    {
     "data": {
      "text/html": [
       "<div>\n",
       "<style scoped>\n",
       "    .dataframe tbody tr th:only-of-type {\n",
       "        vertical-align: middle;\n",
       "    }\n",
       "\n",
       "    .dataframe tbody tr th {\n",
       "        vertical-align: top;\n",
       "    }\n",
       "\n",
       "    .dataframe thead th {\n",
       "        text-align: right;\n",
       "    }\n",
       "</style>\n",
       "<table border=\"1\" class=\"dataframe\">\n",
       "  <thead>\n",
       "    <tr style=\"text-align: right;\">\n",
       "      <th>Predicted</th>\n",
       "      <th>0</th>\n",
       "      <th>1</th>\n",
       "      <th>2</th>\n",
       "    </tr>\n",
       "    <tr>\n",
       "      <th>Actual</th>\n",
       "      <th></th>\n",
       "      <th></th>\n",
       "      <th></th>\n",
       "    </tr>\n",
       "  </thead>\n",
       "  <tbody>\n",
       "    <tr>\n",
       "      <th>0</th>\n",
       "      <td>50</td>\n",
       "      <td>0</td>\n",
       "      <td>0</td>\n",
       "    </tr>\n",
       "    <tr>\n",
       "      <th>1</th>\n",
       "      <td>0</td>\n",
       "      <td>39</td>\n",
       "      <td>11</td>\n",
       "    </tr>\n",
       "    <tr>\n",
       "      <th>2</th>\n",
       "      <td>0</td>\n",
       "      <td>17</td>\n",
       "      <td>33</td>\n",
       "    </tr>\n",
       "  </tbody>\n",
       "</table>\n",
       "</div>"
      ],
      "text/plain": [
       "Predicted   0   1   2\n",
       "Actual               \n",
       "0          50   0   0\n",
       "1           0  39  11\n",
       "2           0  17  33"
      ]
     },
     "execution_count": 40,
     "metadata": {},
     "output_type": "execute_result"
    }
   ],
   "source": [
    "conf_matrix, accuracy = compare_classes(real_groups, groups)\n",
    "conf_matrix"
   ]
  },
  {
   "cell_type": "code",
   "execution_count": 41,
   "id": "1f43c6c1-86e1-484e-bbfb-bde5ad82f50c",
   "metadata": {
    "tags": []
   },
   "outputs": [
    {
     "data": {
      "text/plain": [
       "array(['setosa', 'versicolor', 'virginica'], dtype='<U10')"
      ]
     },
     "execution_count": 41,
     "metadata": {},
     "output_type": "execute_result"
    }
   ],
   "source": [
    "y_names"
   ]
  },
  {
   "cell_type": "markdown",
   "id": "bb8efb8e-2bdb-4dd3-9b19-f97eacf3db47",
   "metadata": {},
   "source": [
    "**10**\n",
    "\n",
    "Finally, we are curious to see how naive K-means compares with K-means++. Run both naive K-means (n_init=10, init=’random’) and K-means++ (n_init=’auto’) on the original Iris data X, without any scaling. Use random_state = 146. Set the range of k from 1 to 10 and plot the score-n_clusters curve for both K-means and K-means++. Which of the following statements are true? When comparing scores (N.b., they are defined in sklearn with a negative sign), keep two decimal places. \n",
    "\n",
    "\n",
    "\n",
    "Hint: again, the default initialization method in the KMeans() object is 'k-means++'. To implement a naive K-means, you should set init='random' when you create the KMeans() object.\n",
    "\n",
    "\n",
    "-The score of K-means++ is lower than naive K-means in at least one of the k values\n",
    "\n",
    "\n",
    "-**The 'Elbow' point (i.e., optimal number of clusters) is at k=3 for both naive K-means and K-means++**\n",
    "\n",
    "\n",
    "-The largest difference of scores (in absolute value) between naive K-means and K-means++ is at k=10\n",
    "\n",
    "\n",
    "-The scores of naive K-means and K-means++ are the same when k is from 1 to 3\n",
    "\n",
    "\n",
    "-The scores of K-means++ are higher than naive K-means in all values of k\n",
    "\n",
    "\n",
    "-**The score of K-means++ is higher than naive K-means when k=6**"
   ]
  },
  {
   "cell_type": "code",
   "execution_count": 47,
   "id": "ea372088-9134-426e-8816-8e5efc872970",
   "metadata": {
    "tags": []
   },
   "outputs": [
    {
     "name": "stdout",
     "output_type": "stream",
     "text": [
      "-681.3705999999995 for k of: 1\n",
      "-152.347951760358 for k of: 2\n",
      "-78.85144142614602 for k of: 3\n",
      "-57.228473214285714 for k of: 4\n",
      "-49.82227840909091 for k of: 5\n",
      "-39.06603535353537 for k of: 6\n",
      "-34.59997871146567 for k of: 7\n",
      "-30.32581102231104 for k of: 8\n",
      "-28.400523635403513 for k of: 9\n",
      "-26.656810145994356 for k of: 10\n"
     ]
    },
    {
     "data": {
      "image/png": "[encoded data removed]",
      "text/plain": [
       "<Figure size 640x480 with 1 Axes>"
      ]
     },
     "metadata": {},
     "output_type": "display_data"
    }
   ],
   "source": [
    "#kmeans\n",
    "kmeans_scores=[]\n",
    "k_range = np.arange(1,11)\n",
    "for k in k_range:\n",
    "    km = KMeans(n_clusters=k, random_state=146, n_init = 10, init = 'random')\n",
    "    km.fit(X)\n",
    "    kmeans_scores.append(km.score(X))\n",
    "    print(km.score(X),'for k of:', k) \n",
    "#plot\n",
    "plt.plot(k_range, scores, '-xk')\n",
    "plt.xlabel('n_clusters')\n",
    "plt.xticks(k_range)\n",
    "plt.ylabel('Score')\n",
    "plt.show()"
   ]
  },
  {
   "cell_type": "code",
   "execution_count": 48,
   "id": "f7be9121-dde8-4ef9-972d-dfeb8f122665",
   "metadata": {
    "tags": []
   },
   "outputs": [
    {
     "name": "stdout",
     "output_type": "stream",
     "text": [
      "-681.3705999999995 for k of: 1\n",
      "-152.347951760358 for k of: 2\n",
      "-78.85566582597727 for k of: 3\n",
      "-57.25600931571815 for k of: 4\n",
      "-52.90178182234433 for k of: 5\n",
      "-51.180703256302536 for k of: 6\n",
      "-40.76160769230769 for k of: 7\n",
      "-35.65414285714285 for k of: 8\n",
      "-35.09876863354037 for k of: 9\n",
      "-27.692573828345584 for k of: 10\n"
     ]
    },
    {
     "data": {
      "image/png": "[encoded data removed]",
      "text/plain": [
       "<Figure size 640x480 with 1 Axes>"
      ]
     },
     "metadata": {},
     "output_type": "display_data"
    }
   ],
   "source": [
    "#kmeans++\n",
    "kplus_scores=[]\n",
    "k_range = np.arange(1,11)\n",
    "for k in k_range:\n",
    "    km = KMeans(n_clusters=k, random_state=146, n_init = 'auto')\n",
    "    km.fit(X)\n",
    "    kplus_scores.append(km.score(X))\n",
    "    print(km.score(X),'for k of:', k) \n",
    "#plot\n",
    "plt.plot(k_range, scores, '-xk')\n",
    "plt.xlabel('n_clusters')\n",
    "plt.xticks(k_range)\n",
    "plt.ylabel('Score')\n",
    "plt.show()"
   ]
  },
  {
   "cell_type": "code",
   "execution_count": 49,
   "id": "5c1a95c0-6c5b-45e6-ba5a-0b0f0b9babe4",
   "metadata": {
    "tags": []
   },
   "outputs": [
    {
     "data": {
      "text/plain": [
       "[-681.3705999999995,\n",
       " -152.347951760358,\n",
       " -78.85144142614602,\n",
       " -57.228473214285714,\n",
       " -49.82227840909091,\n",
       " -39.06603535353537,\n",
       " -34.59997871146567,\n",
       " -30.32581102231104,\n",
       " -28.400523635403513,\n",
       " -26.656810145994356]"
      ]
     },
     "execution_count": 49,
     "metadata": {},
     "output_type": "execute_result"
    }
   ],
   "source": [
    "kmeans_scores"
   ]
  },
  {
   "cell_type": "code",
   "execution_count": 50,
   "id": "959672c2-d4b2-4982-84ae-965cafc2008f",
   "metadata": {
    "tags": []
   },
   "outputs": [
    {
     "data": {
      "text/plain": [
       "[-681.3705999999995,\n",
       " -152.347951760358,\n",
       " -78.85566582597727,\n",
       " -57.25600931571815,\n",
       " -52.90178182234433,\n",
       " -51.180703256302536,\n",
       " -40.76160769230769,\n",
       " -35.65414285714285,\n",
       " -35.09876863354037,\n",
       " -27.692573828345584]"
      ]
     },
     "execution_count": 50,
     "metadata": {},
     "output_type": "execute_result"
    }
   ],
   "source": [
    "kplus_scores"
   ]
  }
 ],
 "metadata": {
  "kernelspec": {
   "display_name": "Python 3 (ipykernel)",
   "language": "python",
   "name": "python3"
  },
  "language_info": {
   "codemirror_mode": {
    "name": "ipython",
    "version": 3
   },
   "file_extension": ".py",
   "mimetype": "text/x-python",
   "name": "python",
   "nbconvert_exporter": "python",
   "pygments_lexer": "ipython3",
   "version": "3.10.9"
  }
 },
 "nbformat": 4,
 "nbformat_minor": 5
}
